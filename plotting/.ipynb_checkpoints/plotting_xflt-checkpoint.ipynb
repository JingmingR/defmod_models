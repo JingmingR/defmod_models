{
 "cells": [
  {
   "cell_type": "code",
   "execution_count": 1,
   "id": "64f4b5cf",
   "metadata": {},
   "outputs": [],
   "source": [
    "# %matplotlib inline\n",
    "%matplotlib qt\n",
    "import numpy as np\n",
    "import matplotlib.animation\n",
    "from mpl_toolkits.mplot3d import Axes3D\n",
    "import matplotlib.pyplot as plt\n",
    "import matplotlib.cm as cmx\n",
    "import matplotlib\n",
    "import numpy as np\n",
    "import h5py\n",
    "import math\n",
    "import os, sys\n",
    "%load_ext autoreload\n",
    "%autoreload 2\n",
    "sys.path.append('/home/jingmingruan/ownCloud/dataprocessing')\n",
    "# sys.path.append('/home/jingmingruan/TUD/DeepNL/cloud/dataprocessing')\n",
    "from plot_3D_Xflt import *"
   ]
  },
  {
   "cell_type": "markdown",
   "id": "77a17e10-adcb-4894-a7b8-78c807ed13a5",
   "metadata": {},
   "source": [
    "# Load data"
   ]
  },
  {
   "cell_type": "code",
   "execution_count": 2,
   "id": "e2a1779c",
   "metadata": {},
   "outputs": [],
   "source": [
    "dyn = 1\n",
    "seis = 0\n",
    "vline = 1.0\n",
    "axis = 1\n",
    "mask = 0.6\n",
    "delta = 0\n",
    "xyaxis = 1\n",
    "projection=True\n",
    "vline = 0.8\n",
    "\n",
    "# Zeerijp = plot3D(\"/media/jingmingruan/BACKUP/TUD/delftblue/3D/3D_Xflt/45_vo_high/01MPa/Buijze3D_fe.h5\",dyn=dyn,xflt=1,seis=seis)\n",
    "Zeerijp = plot3D(\"/media/jingmingruan/BACKUP/TUD/palmyra/newkxky/45/Buijze3D_fe.h5\",dyn=dyn,xflt=0,seis=seis)\n",
    "# Zeerijp = plot3D(\"/home/jingmingruan/Delftblue/3D/3D_Xflt/45_vo_high/inp_load01mpa/Buijze3D_fe.h5\",dyn=0,xflt=1,seis=seis)\n",
    "# tri_file = \"/home/jingmingruan/Desktop/defmod_runs/3D_Xflt/flt_tri_nob.npy\" \n"
   ]
  },
  {
   "cell_type": "code",
   "execution_count": 3,
   "id": "24d74244-9d6b-4031-bfd0-5994a9bd039f",
   "metadata": {
    "tags": []
   },
   "outputs": [
    {
     "name": "stdout",
     "output_type": "stream",
     "text": [
      "dict_keys(['step 10', 'step 11', 'step 12', 'step 13', 'step 14', 'step 15', 'step 16', 'step 18', 'step 19', 'step 20', 'step 21', 'step 22', 'step 23', 'step 24', 'step 25', 'step 26', 'step 27', 'step 28', 'step 9'])\n",
      "[[ 9  0]\n",
      " [10  0]\n",
      " [11  0]\n",
      " [12  0]\n",
      " [13  0]\n",
      " [14  0]\n",
      " [15  0]\n",
      " [16  0]\n",
      " [18  0]\n",
      " [19  0]\n",
      " [20  0]\n",
      " [21  0]\n",
      " [22  0]\n",
      " [23  0]\n",
      " [24  0]\n",
      " [25  0]\n",
      " [26  0]\n",
      " [27  0]\n",
      " [28  1]\n",
      " [28  0]]\n",
      "[ 21  41  61  81 101 121 141 161 181 201 221 241 261 281 301 321 341 361\n",
      " 561]\n"
     ]
    }
   ],
   "source": [
    "if dyn:\n",
    "    print (Zeerijp.dat_trac_sort.keys())\n",
    "    print (Zeerijp.dat_log)\n",
    "    print (Zeerijp.dat_log_dyn)"
   ]
  },
  {
   "cell_type": "code",
   "execution_count": 4,
   "id": "b56f23af-f254-4b28-af1b-bd5f6ca104cb",
   "metadata": {},
   "outputs": [],
   "source": [
    "def scatter3d(x,y,z, cs, colorsMap='seismic',zlim0=False,zlim1=False,v0=False):\n",
    "    cm = plt.get_cmap(colorsMap)\n",
    "    fig = plt.figure()\n",
    "    ax = Axes3D(fig)\n",
    "    vmin = np.min(cs)\n",
    "    vmax = np.max(cs)\n",
    "    vabs =(np.abs(cs))\n",
    "    print (vmin,vmax)\n",
    "    if v0:\n",
    "        cNorm = matplotlib.colors.Normalize(vmin=min(-1*vabs), vmax=max(vabs))\n",
    "        scalarMap = cmx.ScalarMappable(norm=cNorm, cmap=cm)\n",
    "        ax.scatter(x, y, z, c=scalarMap.to_rgba(cs))\n",
    "    else:\n",
    "        cNorm = matplotlib.colors.Normalize(vmin=vmin, vmax=vmax)\n",
    "        scalarMap = cmx.ScalarMappable(norm=cNorm, cmap=cm)\n",
    "        ax.scatter(x, y, z, c=scalarMap.to_rgba(cs))\n",
    "    scalarMap.set_array(cs)\n",
    "    fig.colorbar(scalarMap,label='Test')\n",
    "    ax.view_init(20, 30)\n",
    "    if zlim0:\n",
    "        ax.set_zlim(zlim0,zlim1)\n",
    "    plt.show()\n"
   ]
  },
  {
   "cell_type": "code",
   "execution_count": 5,
   "id": "adce0e51-56db-44c7-8c18-17c3e896750c",
   "metadata": {},
   "outputs": [],
   "source": [
    "font = {'weight' : 'bold',\n",
    "        'size'   : 14}\n",
    "\n",
    "matplotlib.rc('font', **font)\n",
    "matplotlib.rc('image', cmap='seismic')"
   ]
  },
  {
   "cell_type": "markdown",
   "id": "9ca72676-d10c-4dd6-bd57-8c7d4e638c67",
   "metadata": {
    "tags": []
   },
   "source": [
    "# Plot the static stress:"
   ]
  },
  {
   "cell_type": "code",
   "execution_count": 6,
   "id": "ef856a8f-9676-48e2-b09f-892cf158a2f4",
   "metadata": {},
   "outputs": [],
   "source": [
    "axiss = 1\n",
    "step = 28\n",
    "inter = 44\n",
    "start = 0\n",
    "end = -1 # 3732 3781 3830"
   ]
  },
  {
   "cell_type": "markdown",
   "id": "0bfecffd-6dbd-4a21-9998-568fa8a67bc1",
   "metadata": {},
   "source": [
    "## Absolute form"
   ]
  },
  {
   "cell_type": "code",
   "execution_count": 7,
   "id": "6590e207-fa66-431e-a7d1-0c8ae40f256b",
   "metadata": {},
   "outputs": [
    {
     "name": "stdout",
     "output_type": "stream",
     "text": [
      "-9.40741652529357 7.668749550410054\n",
      "-10.90383525166228 17.68044826218773\n",
      "-32.461716155597045 -5.681934407235335\n",
      "14.986085017334188 56.122350044401564\n"
     ]
    }
   ],
   "source": [
    "# absolute form\n",
    "x = Zeerijp.fcoord[start:end,0]\n",
    "y = Zeerijp.fcoord[start:end,1]\n",
    "z = Zeerijp.fcoord[start:end,2]\n",
    "ccss = (Zeerijp.dat_trac_sta[start:end,0,step-1]/1e6).flatten()\n",
    "\n",
    "scatter3d(x,y,z,ccss)\n",
    "\n",
    "x = Zeerijp.fcoord[start:end,0]\n",
    "y = Zeerijp.fcoord[start:end,1]\n",
    "z = Zeerijp.fcoord[start:end,2]\n",
    "ccss = (Zeerijp.dat_trac_sta[start:end,1,step-1]/1e6).flatten()\n",
    "scatter3d(x,y,z,ccss)\n",
    "\n",
    "x = Zeerijp.fcoord[start:end,0]\n",
    "y = Zeerijp.fcoord[start:end,1]\n",
    "z = Zeerijp.fcoord[start:end,2]\n",
    "ccss = (Zeerijp.dat_trac_sta[start:end,2,step-1]/1e6).flatten()\n",
    "\n",
    "scatter3d(x,y,z,ccss)\n",
    "\n",
    "x = Zeerijp.fcoord[start:end,0]\n",
    "y = Zeerijp.fcoord[start:end,1]\n",
    "z = Zeerijp.fcoord[start:end,2]\n",
    "ccss = (Zeerijp.dat_trac_sta[start:end,3,step-1]/1e6).flatten()\n",
    "\n",
    "scatter3d(x,y,z,ccss)"
   ]
  },
  {
   "cell_type": "code",
   "execution_count": 8,
   "id": "33d05ece-bf91-41af-b1a4-49755607ffc7",
   "metadata": {},
   "outputs": [
    {
     "name": "stdout",
     "output_type": "stream",
     "text": [
      "0.00015817156942452657 0.6111330130766685\n"
     ]
    }
   ],
   "source": [
    "# SCU\n",
    "x = Zeerijp.fcoord[start:end,0]\n",
    "y = Zeerijp.fcoord[start:end,1]\n",
    "z = Zeerijp.fcoord[start:end,2]\n",
    "fshr = np.sqrt((Zeerijp.dat_trac_sta[start:end,0,step-1]/1e6).flatten()**2+(Zeerijp.dat_trac_sta[start:end,1,step-1]/1e6).flatten()**2)\n",
    "fnrm = np.abs(Zeerijp.dat_trac_sta[start:end,2,step-1]/1e6).flatten()\n",
    "ccss = fshr/fnrm\n",
    "\n",
    "scatter3d(x,y,z,ccss,colorsMap='coolwarm')"
   ]
  },
  {
   "cell_type": "markdown",
   "id": "12fb83a1-720b-4117-a62e-3ccc1c87414c",
   "metadata": {},
   "source": [
    "## incremental form"
   ]
  },
  {
   "cell_type": "code",
   "execution_count": 8,
   "id": "707370e7-7e6e-4d6b-89cc-e0472fb61f47",
   "metadata": {},
   "outputs": [
    {
     "name": "stdout",
     "output_type": "stream",
     "text": [
      "-9.48258592529357 8.757005772360914\n",
      "-11.04912325166228 12.944578262187731\n",
      "-15.784526142837901 10.875511642019113\n",
      "-13.099999999999575 0.0\n"
     ]
    }
   ],
   "source": [
    "# incremental form\n",
    "x = Zeerijp.fcoord[start:end,0]\n",
    "y = Zeerijp.fcoord[start:end,1]\n",
    "z = Zeerijp.fcoord[start:end,2]\n",
    "ccss = (Zeerijp.dat_trac_sta[start:end,0,step-1]/1e6).flatten() - (Zeerijp.dat_trac_sta[start:end,0,0]/1e6).flatten()\n",
    "scatter3d(x,y,z,ccss,v0=True)\n",
    "\n",
    "x = Zeerijp.fcoord[start:end,0]\n",
    "y = Zeerijp.fcoord[start:end,1]\n",
    "z = Zeerijp.fcoord[start:end,2]\n",
    "ccss = (Zeerijp.dat_trac_sta[start:end,1,step-1]/1e6).flatten() - (Zeerijp.dat_trac_sta[start:end,1,0]/1e6).flatten()\n",
    "scatter3d(x,y,z,ccss,v0=True)\n",
    "\n",
    "x = Zeerijp.fcoord[start:end,0]\n",
    "y = Zeerijp.fcoord[start:end,1]\n",
    "z = Zeerijp.fcoord[start:end,2]\n",
    "ccss = (Zeerijp.dat_trac_sta[start:end,2,step-1]/1e6).flatten() - (Zeerijp.dat_trac_sta[start:end,2,0]/1e6).flatten()\n",
    "scatter3d(x,y,z,ccss,v0=True)\n",
    "\n",
    "x = Zeerijp.fcoord[start:end,0]\n",
    "y = Zeerijp.fcoord[start:end,1]\n",
    "z = Zeerijp.fcoord[start:end,2]\n",
    "ccss = (Zeerijp.dat_trac_sta[start:end,3,step-1]/1e6).flatten() - (Zeerijp.dat_trac_sta[start:end,3,0]/1e6).flatten()\n",
    "scatter3d(x,y,z,ccss,v0=True)"
   ]
  },
  {
   "cell_type": "markdown",
   "id": "a99f4a46-b7e7-4c48-9611-f1c8531e3951",
   "metadata": {},
   "source": [
    "## comparison with the convential method"
   ]
  },
  {
   "cell_type": "code",
   "execution_count": 23,
   "id": "542d176d-edca-46c0-8e4c-5212ab7f30b7",
   "metadata": {},
   "outputs": [],
   "source": [
    "step = 20\n",
    "start = 0\n",
    "end = 6400"
   ]
  },
  {
   "cell_type": "code",
   "execution_count": 24,
   "id": "b3d8f4d4-f7ba-4e47-8465-44e606837e02",
   "metadata": {},
   "outputs": [
    {
     "name": "stdout",
     "output_type": "stream",
     "text": [
      "-1.7988705309939597 2.46020225924906\n",
      "-1.8737431423326152 1.8651310227135376\n",
      "-3.6127149185481713 6.73346399445288\n",
      "-5.723115767332015 7.599735460052447\n"
     ]
    }
   ],
   "source": [
    "# Comparing with conventional method\n",
    "Zeerijp_conv = plot3D(\"/home/jingmingruan/Desktop/defmod_runs/3D_Xflt/Buijze3D_fe_90_conv.h5\",dyn=dyn,xflt=0,seis=seis)\n",
    "x = Zeerijp.fcoord[start:end,0]\n",
    "y = Zeerijp.fcoord[start:end,1]\n",
    "z = Zeerijp.fcoord[start:end,2]\n",
    "ccss = (Zeerijp.dat_trac_sta[start:end,0,step-1]/1e6).flatten() - (Zeerijp_conv.dat_trac_sta[start:end,0,step-1]/1e6).flatten()\n",
    "scatter3d(x,y,z,ccss,v0=True)\n",
    "\n",
    "x = Zeerijp.fcoord[start:end,0]\n",
    "y = Zeerijp.fcoord[start:end,1]\n",
    "z = Zeerijp.fcoord[start:end,2]\n",
    "ccss = (Zeerijp.dat_trac_sta[start:end,1,step-1]/1e6).flatten() - (Zeerijp_conv.dat_trac_sta[start:end,1,step-1]/1e6).flatten()\n",
    "scatter3d(x,y,z,ccss,v0=True)\n",
    "\n",
    "x = Zeerijp.fcoord[start:end,0]\n",
    "y = Zeerijp.fcoord[start:end,1]\n",
    "z = Zeerijp.fcoord[start:end,2]\n",
    "ccss = (Zeerijp.dat_trac_sta[start:end,2,step-1]/1e6).flatten() - (Zeerijp_conv.dat_trac_sta[start:end,2,step-1]/1e6).flatten()\n",
    "scatter3d(x,y,z,ccss,v0=True)\n",
    "\n",
    "x = Zeerijp.fcoord[start:end,0]\n",
    "y = Zeerijp.fcoord[start:end,1]\n",
    "z = Zeerijp.fcoord[start:end,2]\n",
    "ccss = (Zeerijp.dat_trac_sta[start:end,3,step-1]/1e6).flatten() - (Zeerijp_conv.dat_trac_sta[start:end,3,step-1]/1e6).flatten()\n",
    "scatter3d(x,y,z,ccss,v0=True)"
   ]
  },
  {
   "cell_type": "code",
   "execution_count": 8,
   "id": "e28ec4ec-d9f9-4a69-9ab2-f82659d0e78f",
   "metadata": {},
   "outputs": [],
   "source": [
    "axiss = 2\n",
    "start = 0\n",
    "end = -29*2 # 3732 3781 3830\n",
    "x = Zeerijp.fcoord[start:end,0]\n",
    "y = Zeerijp.fcoord[start:end,1]\n",
    "z = Zeerijp.fcoord[start:end,2]\n",
    "ccss = np.abs(Zeerijp.dat_trac_sta[start:end,2]/1e6).flatten() + (Zeerijp.dat_trac_sta[start:end,3]/1e6).flatten()\n",
    "\n",
    "scatter3d(x,y,z,ccss)"
   ]
  },
  {
   "cell_type": "code",
   "execution_count": 25,
   "id": "2cf4336c-4d0a-4246-8053-55cca7617e87",
   "metadata": {},
   "outputs": [],
   "source": [
    "axiss = 2\n",
    "start = 0\n",
    "end = -29 # 3732 3781 3830\n",
    "x = Zeerijp.fcoord[start:end,0]\n",
    "y = Zeerijp.fcoord[start:end,1]\n",
    "z = Zeerijp.fcoord[start:end,2]\n",
    "ccss = (Zeerijp.dat_trac_sta[start:end,axiss]/1e6).flatten()\n",
    "\n",
    "scatter3d(x,y,z,ccss)"
   ]
  },
  {
   "cell_type": "code",
   "execution_count": 12,
   "id": "17ab112e-231a-42c6-9210-e129d733411a",
   "metadata": {},
   "outputs": [
    {
     "name": "stderr",
     "output_type": "stream",
     "text": [
      "findfont: Font family ['normal'] not found. Falling back to DejaVu Sans.\n",
      "findfont: Font family ['normal'] not found. Falling back to DejaVu Sans.\n"
     ]
    }
   ],
   "source": [
    "Zeerijp.plot_static(tstep_list=[1],axis=1,\n",
    "                    scatter=1,vdegree=27, azimuth=-50)"
   ]
  },
  {
   "cell_type": "code",
   "execution_count": 85,
   "id": "aded4513-6030-4531-aca3-9ef85b508e2e",
   "metadata": {},
   "outputs": [],
   "source": [
    "axiss = 2\n",
    "start = 0\n",
    "end = -53*2 # 3732 3781\n",
    "x = Zeerijp.fcoord[start:end,0]\n",
    "y = Zeerijp.fcoord[start:end,1]\n",
    "z = Zeerijp.fcoord[start:end,2]\n",
    "ccss = (Zeerijp.dat_trac_sta[start:end,axiss,step]/1e6).flatten()\n",
    "\n",
    "scatter3d(x,y,z,ccss)"
   ]
  },
  {
   "cell_type": "code",
   "execution_count": 88,
   "id": "34abcd6e-3a48-4019-8e80-30e019701c92",
   "metadata": {},
   "outputs": [],
   "source": [
    "axiss = 1\n",
    "start = 0\n",
    "end = -53*2 # 3732 3781\n",
    "x = Zeerijp.fcoord[start:end,0]\n",
    "y = Zeerijp.fcoord[start:end,1]\n",
    "z = Zeerijp.fcoord[start:end,2]\n",
    "ccss = (Zeerijp.dat_trac_sta[start:end,axiss,step]/1e6).flatten()\n",
    "\n",
    "scatter3d(x,y,z,ccss)"
   ]
  },
  {
   "cell_type": "code",
   "execution_count": 89,
   "id": "f5993ed5-91e1-4575-83fe-431f992d753f",
   "metadata": {},
   "outputs": [],
   "source": [
    "axiss = 0\n",
    "start = 0\n",
    "end = -53*2 # 3732 3781\n",
    "x = Zeerijp.fcoord[start:end,0]\n",
    "y = Zeerijp.fcoord[start:end,1]\n",
    "z = Zeerijp.fcoord[start:end,2]\n",
    "ccss = (Zeerijp.dat_trac_sta[start:end,axiss,step]/1e6).flatten()\n",
    "\n",
    "scatter3d(x,y,z,ccss)"
   ]
  },
  {
   "cell_type": "code",
   "execution_count": 14,
   "id": "0acd2813-540e-4fa3-ad91-04e2213f39d8",
   "metadata": {},
   "outputs": [],
   "source": [
    "axiss = 2\n",
    "start = 0\n",
    "end = 3830 # 3732 3781\n",
    "x = Zeerijp.fcoord[start:end,0]\n",
    "y = Zeerijp.fcoord[start:end,1]\n",
    "z = Zeerijp.fcoord[start:end,2]\n",
    "ccss = (Zeerijp.dat_trac_sta[start:end,axiss]/1e6).flatten()\n",
    "\n",
    "scatter3d(x,y,z,ccss)"
   ]
  },
  {
   "cell_type": "code",
   "execution_count": 9,
   "id": "874df369-a70a-4224-96d2-70874fa70079",
   "metadata": {},
   "outputs": [],
   "source": [
    "axiss = 0\n",
    "start = 0\n",
    "end = -35*2 # 3732 3781\n",
    "x = Zeerijp.fcoord[start:end,0]\n",
    "y = Zeerijp.fcoord[start:end,1]\n",
    "z = Zeerijp.fcoord[start:end,2]\n",
    "ccss = (Zeerijp.dat_trac_sta[start:end,axiss]/1e6).flatten()\n",
    "\n",
    "scatter3d(x,y,z,ccss)"
   ]
  },
  {
   "cell_type": "markdown",
   "id": "68a344e4-3c41-4a4b-a884-1bc19f2ef46d",
   "metadata": {},
   "source": [
    "# intersecting nodes"
   ]
  },
  {
   "cell_type": "markdown",
   "id": "b105c549-2357-4a66-ad08-8f65a7763963",
   "metadata": {},
   "source": [
    "## ploting the Xflt nodes"
   ]
  },
  {
   "cell_type": "code",
   "execution_count": 7,
   "id": "f1398011-5842-4054-b993-69d43b3833f2",
   "metadata": {},
   "outputs": [],
   "source": [
    "# comapring stress on the main fault and the aux fault\n",
    "axis = 0\n",
    "step = 23\n",
    "inter = 53\n",
    "\n",
    "zlim0 = -3.1\n",
    "zlim1 = -2.8"
   ]
  },
  {
   "cell_type": "code",
   "execution_count": 46,
   "id": "8c8e3ee0-ca8e-4628-b08b-2cdb0ce78e8e",
   "metadata": {},
   "outputs": [],
   "source": [
    "Zeerijp = plot3D(\"/home/jingmingruan/Desktop/defmod_runs/3D_Xflt/Buijze3D_fe_45_vo_load.h5\",dyn=dyn,xflt=0,seis=seis)\n",
    "# Zeerijp = plot3D(\"/home/jingmingruan/Desktop/defmod_runs/3D_Xflt/Buijze3D_fe_90_conv.h5\",dyn=dyn,seis=seis)\n",
    "\n",
    "start = -1*inter*2\n",
    "end = -1*inter*1\n",
    "x = Zeerijp.fcoord[start:end,0]\n",
    "y = Zeerijp.fcoord[start:end,1]\n",
    "z = Zeerijp.fcoord[start:end,2]\n",
    "\n",
    "fshr = np.sqrt((Zeerijp.dat_trac_sta[start:end,0,step-1]/1e6)**2 + (Zeerijp.dat_trac_sta[start:end,1,step-1]/1e6)**2)\n",
    "fnrm = np.abs((Zeerijp.dat_trac_sta[start:end,2,step-1]/1e6))\n",
    "ccss = fshr/fnrm\n",
    "\n",
    "fig = plt.figure()\n",
    "ind = np.argsort(z)\n",
    "plt.plot(ccss[ind],z[ind],label='1-3')\n",
    "# plt.xlabel('Stress [MPa]')\n",
    "# plt.ylabel('Z [km]')\n",
    "# plt.show()\n",
    "\n",
    "start = -1*inter*1\n",
    "end = -1\n",
    "x = Zeerijp.fcoord[start:end,0]\n",
    "y = Zeerijp.fcoord[start:end,1]\n",
    "z = Zeerijp.fcoord[start:end,2]\n",
    "\n",
    "fshr = np.sqrt((Zeerijp.dat_trac_sta[start:end,0,step-1]/1e6)**2 + (Zeerijp.dat_trac_sta[start:end,1,step-1]/1e6)**2)\n",
    "fnrm = np.abs((Zeerijp.dat_trac_sta[start:end,2,step-1]/1e6))\n",
    "ccss = fshr/fnrm\n",
    "\n",
    "# fig = plt.figure()\n",
    "ind = np.argsort(z)\n",
    "plt.plot(ccss[ind],z[ind],label='2-4')\n",
    "plt.xlabel('Stress [MPa]')\n",
    "plt.ylabel('Z [km]')\n",
    "plt.legend()\n",
    "plt.show()"
   ]
  },
  {
   "cell_type": "code",
   "execution_count": 47,
   "id": "98ca4f0a-1575-4507-8eae-ff020138e56b",
   "metadata": {},
   "outputs": [],
   "source": [
    "Zeerijp = plot3D(\"/home/jingmingruan/Desktop/defmod_runs/3D_Xflt/Buijze3D_fe_45_vo_load.h5\",dyn=dyn,xflt=1,seis=seis)\n",
    "# Zeerijp = plot3D(\"/home/jingmingruan/Desktop/defmod_runs/3D_Xflt/Buijze3D_fe_90_conv.h5\",dyn=dyn,seis=seis)\n",
    "\n",
    "start = -1*inter*2\n",
    "end = -1*inter*1\n",
    "x = Zeerijp.fcoord[start:end,0]\n",
    "y = Zeerijp.fcoord[start:end,1]\n",
    "z = Zeerijp.fcoord[start:end,2]\n",
    "\n",
    "fshr = np.sqrt((Zeerijp.dat_tracx_sta[start:end,0,step-1]/1e6)**2 + (Zeerijp.dat_tracx_sta[start:end,1,step-1]/1e6)**2)\n",
    "fnrm = np.abs((Zeerijp.dat_tracx_sta[start:end,2,step-1]/1e6))\n",
    "ccss = fshr/fnrm\n",
    "\n",
    "fig = plt.figure()\n",
    "ind = np.argsort(z)\n",
    "plt.plot(ccss[ind],z[ind])\n",
    "# plt.xlabel('Stress [MPa]')\n",
    "# plt.ylabel('Z [km]')\n",
    "# plt.show()\n",
    "\n",
    "start = -1*inter*1\n",
    "end = -1\n",
    "x = Zeerijp.fcoord[start:end,0]\n",
    "y = Zeerijp.fcoord[start:end,1]\n",
    "z = Zeerijp.fcoord[start:end,2]\n",
    "\n",
    "fshr = np.sqrt((Zeerijp.dat_tracx_sta[start:end,0,step-1]/1e6)**2 + (Zeerijp.dat_tracx_sta[start:end,1,step-1]/1e6)**2)\n",
    "fnrm = np.abs((Zeerijp.dat_tracx_sta[start:end,2,step-1]/1e6))\n",
    "ccss = fshr/fnrm\n",
    "\n",
    "# fig = plt.figure()\n",
    "ind = np.argsort(z)\n",
    "plt.plot(ccss[ind],z[ind])\n",
    "plt.xlabel('Stress [MPa]')\n",
    "plt.ylabel('Z [km]')\n",
    "plt.show()"
   ]
  },
  {
   "cell_type": "code",
   "execution_count": null,
   "id": "e3c1592e-a0f7-438e-ae98-b5b3d301c661",
   "metadata": {},
   "outputs": [],
   "source": []
  },
  {
   "cell_type": "code",
   "execution_count": null,
   "id": "df918f46-ffed-43db-9a2b-8bb139941b47",
   "metadata": {},
   "outputs": [],
   "source": []
  },
  {
   "cell_type": "code",
   "execution_count": null,
   "id": "d2f56d75-a539-41bb-ad6d-30fa43fa951a",
   "metadata": {},
   "outputs": [],
   "source": []
  },
  {
   "cell_type": "code",
   "execution_count": 13,
   "id": "a16def3b-7b35-4f9d-918c-6a62bbbf8f65",
   "metadata": {},
   "outputs": [],
   "source": [
    "# comapring stress on the main fault and the aux fault\n",
    "axis = 1\n",
    "step = 23\n",
    "inter = 53\n",
    "\n",
    "zlim0 = -3.1\n",
    "zlim1 = -2.8"
   ]
  },
  {
   "cell_type": "code",
   "execution_count": 14,
   "id": "5afd75b4-bb5d-4b0e-8df1-6337e76d64f6",
   "metadata": {},
   "outputs": [],
   "source": [
    "Zeerijp = plot3D(\"/home/jingmingruan/Desktop/defmod_runs/3D_Xflt/Buijze3D_fe_45_vo_load.h5\",dyn=0,xflt=1,seis=seis)\n",
    "# Zeerijp = plot3D(\"/home/jingmingruan/Desktop/defmod_runs/3D_Xflt/Buijze3D_fe_debug_90_80_load.h5\",dyn=dyn,seis=seis)\n",
    "\n",
    "start = -1*inter*2\n",
    "end = -1*inter*1\n",
    "x = Zeerijp.fcoord[start:end,0]\n",
    "y = Zeerijp.fcoord[start:end,1]\n",
    "z = Zeerijp.fcoord[start:end,2]\n",
    "\n",
    "# fshr = np.sqrt((Zeerijp.dat_trac_sta[start:end,0,step-1]/1e6)**2 + (Zeerijp.dat_trac_sta[start:end,1,step-1]/1e6)**2)\n",
    "# fnrm = np.abs((Zeerijp.dat_trac_sta[start:end,2,step-1]/1e6))\n",
    "# ccss = fshr/fnrm\n",
    "ccss = ((Zeerijp.dat_trac_sta[start:end,axis,step-1]/1e6)-(Zeerijp.dat_trac_sta[start:end,axis,0]/1e6))\n",
    "\n",
    "fig = plt.figure()\n",
    "ind = np.argsort(z)\n",
    "plt.plot(ccss[ind],z[ind],label='1-3')\n",
    "# plt.xlabel('Stress [MPa]')\n",
    "# plt.ylabel('Z [km]')\n",
    "# plt.show()\n",
    "\n",
    "start = -1*inter*1\n",
    "end = -1\n",
    "x = Zeerijp.fcoord[start:end,0]\n",
    "y = Zeerijp.fcoord[start:end,1]\n",
    "z = Zeerijp.fcoord[start:end,2]\n",
    "\n",
    "# fshr = np.sqrt((Zeerijp.dat_trac_sta[start:end,0,step-1]/1e6)**2 + (Zeerijp.dat_trac_sta[start:end,1,step-1]/1e6)**2)\n",
    "# fnrm = np.abs((Zeerijp.dat_trac_sta[start:end,2,step-1]/1e6))\n",
    "# ccss = fshr/fnrm\n",
    "ccss = ((Zeerijp.dat_trac_sta[start:end,axis,step-1]/1e6)-(Zeerijp.dat_trac_sta[start:end,axis,0]/1e6))\n",
    "\n",
    "# fig = plt.figure()\n",
    "ind = np.argsort(z)\n",
    "plt.plot(ccss[ind],z[ind],label='2-4')\n",
    "plt.xlabel('Stress [MPa]')\n",
    "plt.ylabel('Z [km]')\n",
    "plt.axhline(y=-2.8,ls='--', c='b',alpha=0.2)\n",
    "plt.axhline(y=-2.85,ls='--',c='g',alpha=0.2)\n",
    "plt.axhline(y=-2.90,ls='--',c='y',alpha=0.2)\n",
    "plt.axhline(y=-3.00,ls='--',c='b',alpha=0.2)\n",
    "plt.axhline(y=-3.05,ls='--',c='g',alpha=0.2)\n",
    "plt.axhline(y=-3.1,ls='--', c='y',alpha=0.2)\n",
    "plt.legend()\n",
    "plt.show()"
   ]
  },
  {
   "cell_type": "code",
   "execution_count": 10,
   "id": "eddf6a7b-d5e4-4df0-9df5-c34655b1b0e4",
   "metadata": {},
   "outputs": [],
   "source": [
    "Zeerijp = plot3D(\"/home/jingmingruan/Desktop/defmod_runs/3D_Xflt/Buijze3D_fe_45_vo_load.h5\",dyn=0,xflt=1,seis=seis)\n",
    "# Zeerijp = plot3D(\"/home/jingmingruan/Desktop/defmod_runs/3D_Xflt/Buijze3D_fe_debug_90_80_load.h5\",dyn=dyn,seis=seis)\n",
    "\n",
    "start = -1*inter*2\n",
    "end = -1*inter*1\n",
    "x = Zeerijp.fcoord[start:end,0]\n",
    "y = Zeerijp.fcoord[start:end,1]\n",
    "z = Zeerijp.fcoord[start:end,2]\n",
    "\n",
    "# fshr = np.sqrt((Zeerijp.dat_trac_sta[start:end,0,step-1]/1e6)**2 + (Zeerijp.dat_trac_sta[start:end,1,step-1]/1e6)**2)\n",
    "# fnrm = np.abs((Zeerijp.dat_trac_sta[start:end,2,step-1]/1e6))\n",
    "# ccss = fshr/fnrm\n",
    "ccss = ((Zeerijp.dat_tracx_sta[start:end,axis,step-1]/1e6)-(Zeerijp.dat_tracx_sta[start:end,axis,0]/1e6))\n",
    "\n",
    "fig = plt.figure()\n",
    "ind = np.argsort(z)\n",
    "plt.plot(ccss[ind],z[ind],label='1-3')\n",
    "# plt.xlabel('Stress [MPa]')\n",
    "# plt.ylabel('Z [km]')\n",
    "# plt.show()\n",
    "\n",
    "start = -1*inter*1\n",
    "end = -1\n",
    "x = Zeerijp.fcoord[start:end,0]\n",
    "y = Zeerijp.fcoord[start:end,1]\n",
    "z = Zeerijp.fcoord[start:end,2]\n",
    "\n",
    "# fshr = np.sqrt((Zeerijp.dat_trac_sta[start:end,0,step-1]/1e6)**2 + (Zeerijp.dat_trac_sta[start:end,1,step-1]/1e6)**2)\n",
    "# fnrm = np.abs((Zeerijp.dat_trac_sta[start:end,2,step-1]/1e6))\n",
    "# ccss = fshr/fnrm\n",
    "ccss = ((Zeerijp.dat_tracx_sta[start:end,axis,step-1]/1e6)-(Zeerijp.dat_tracx_sta[start:end,axis,0]/1e6))\n",
    "\n",
    "# fig = plt.figure()\n",
    "ind = np.argsort(z)\n",
    "plt.plot(ccss[ind],z[ind],label='2-4')\n",
    "plt.xlabel('Stress [MPa]')\n",
    "plt.ylabel('Z [km]')\n",
    "plt.axhline(y=-2.8,ls='--', c='b',alpha=0.2)\n",
    "plt.axhline(y=-2.85,ls='--',c='g',alpha=0.2)\n",
    "plt.axhline(y=-2.90,ls='--',c='y',alpha=0.2)\n",
    "plt.axhline(y=-3.00,ls='--',c='b',alpha=0.2)\n",
    "plt.axhline(y=-3.05,ls='--',c='g',alpha=0.2)\n",
    "plt.axhline(y=-3.1,ls='--', c='y',alpha=0.2)\n",
    "plt.legend()\n",
    "plt.show()"
   ]
  },
  {
   "cell_type": "code",
   "execution_count": null,
   "id": "bf0ecab9-1eeb-476a-9722-d847428eaf08",
   "metadata": {},
   "outputs": [],
   "source": []
  },
  {
   "cell_type": "code",
   "execution_count": null,
   "id": "717c48c7-7bcf-4e0d-bc93-1762179347c8",
   "metadata": {},
   "outputs": [],
   "source": []
  },
  {
   "cell_type": "code",
   "execution_count": null,
   "id": "5718c2cc-4927-4600-a9f1-9a3e1637364d",
   "metadata": {},
   "outputs": [],
   "source": []
  },
  {
   "cell_type": "code",
   "execution_count": null,
   "id": "bcc106fb-1c36-48fd-a263-98d6cd75ccb1",
   "metadata": {},
   "outputs": [],
   "source": []
  },
  {
   "cell_type": "code",
   "execution_count": 35,
   "id": "a97420d5-b08d-484c-b102-33f3e53f32eb",
   "metadata": {},
   "outputs": [],
   "source": [
    "# differential version intersection\n",
    "axiss = 0\n",
    "step = 18\n",
    "inter = 47\n",
    "start = -1*inter*2 # 29 34\n",
    "end = -1*inter # 3732 3781\n",
    "zlim0 = -3.1\n",
    "zlim1 = -2.8\n",
    "x = Zeerijp.fcoord[start:end,0]\n",
    "y = Zeerijp.fcoord[start:end,1]\n",
    "z = Zeerijp.fcoord[start:end,2]\n",
    "ccss = ((Zeerijp.dat_trac_sta[start:end,axiss,step-1]-(Zeerijp.dat_trac_sta[start:end,axiss,1]))/1e6).flatten()\n",
    "scatter3d(x,y,z,ccss,zlim0=zlim0,zlim1=zlim1)\n",
    "\n",
    "start = -1*inter\n",
    "end = -1 # 3732 3781\n",
    "x = Zeerijp.fcoord[start:end,0]\n",
    "y = Zeerijp.fcoord[start:end,1]\n",
    "z = Zeerijp.fcoord[start:end,2]\n",
    "ccss = ((Zeerijp.dat_trac_sta[start:end,axiss,step-1]-(Zeerijp.dat_trac_sta[start:end,axiss,1]))/1e6).flatten()\n",
    "scatter3d(x,y,z,ccss,zlim0=zlim0,zlim1=zlim1)\n"
   ]
  },
  {
   "cell_type": "code",
   "execution_count": 7,
   "id": "ede6fe2d-a35a-443d-bb4b-66d3a1baaa63",
   "metadata": {},
   "outputs": [
    {
     "data": {
      "image/png": "[encoded data removed]",
      "text/plain": [
       "<Figure size 432x288 with 1 Axes>"
      ]
     },
     "metadata": {
      "needs_background": "light"
     },
     "output_type": "display_data"
    },
    {
     "data": {
      "image/png": "[encoded data removed]",
      "text/plain": [
       "<Figure size 432x288 with 1 Axes>"
      ]
     },
     "metadata": {
      "needs_background": "light"
     },
     "output_type": "display_data"
    }
   ],
   "source": [
    "# differential version intersection\n",
    "axiss = 3\n",
    "step = 20\n",
    "inter = 44\n",
    "start = -1*inter*2 # 29 34\n",
    "end = -1*inter # 3732 3781\n",
    "zlim0 = -3.1\n",
    "zlim1 = -2.8\n",
    "x = Zeerijp.fcoord[start:end,0]\n",
    "y = Zeerijp.fcoord[start:end,1]\n",
    "z = Zeerijp.fcoord[start:end,2]\n",
    "ccss = ((Zeerijp.dat_trac_sta[start:end,axiss,step-1]-(Zeerijp.dat_trac_sta[start:end,axiss,1]))/1e6).flatten()\n",
    "# scatter3d(x,y,z,ccss,zlim0=zlim0,zlim1=zlim1)\n",
    "\n",
    "fig = plt.figure()\n",
    "ind = np.argsort(z)\n",
    "plt.plot(ccss[ind],z[ind])\n",
    "plt.show()\n",
    "\n",
    "\n",
    "start = -1*inter\n",
    "end = -1 # 3732 3781\n",
    "x = Zeerijp.fcoord[start:end,0]\n",
    "y = Zeerijp.fcoord[start:end,1]\n",
    "z = Zeerijp.fcoord[start:end,2]\n",
    "ccss = ((Zeerijp.dat_trac_sta[start:end,axiss,step-1]-(Zeerijp.dat_trac_sta[start:end,axiss,1]))/1e6).flatten()\n",
    "# scatter3d(x,y,z,ccss,zlim0=zlim0,zlim1=zlim1)\n",
    "\n",
    "fig = plt.figure()\n",
    "ind = np.argsort(z)\n",
    "plt.plot(ccss[ind],z[ind])\n",
    "plt.show()\n"
   ]
  },
  {
   "cell_type": "code",
   "execution_count": 12,
   "id": "46ddb1ee-6755-4014-a6ec-d75a0d741f38",
   "metadata": {},
   "outputs": [
    {
     "data": {
      "image/png": "[encoded data removed]",
      "text/plain": [
       "<Figure size 432x288 with 1 Axes>"
      ]
     },
     "metadata": {
      "needs_background": "light"
     },
     "output_type": "display_data"
    },
    {
     "data": {
      "image/png": "[encoded data removed]",
      "text/plain": [
       "<Figure size 432x288 with 1 Axes>"
      ]
     },
     "metadata": {
      "needs_background": "light"
     },
     "output_type": "display_data"
    }
   ],
   "source": [
    "# SCU\n",
    "axiss = 3\n",
    "step = 20\n",
    "inter = 44\n",
    "start = -1*inter*2 # 29 34\n",
    "end = -1*inter # 3732 3781\n",
    "zlim0 = -3.1\n",
    "zlim1 = -2.8\n",
    "x = Zeerijp.fcoord[start:end,0]\n",
    "y = Zeerijp.fcoord[start:end,1]\n",
    "z = Zeerijp.fcoord[start:end,2]\n",
    "# ccss = ((Zeerijp.dat_trac_sta[start:end,axiss,step-1]-(Zeerijp.dat_trac_sta[start:end,axiss,1]))/1e6).flatten()\n",
    "ssh = np.sqrt(((Zeerijp.dat_trac_sta[start:end,0,step-1]**2+Zeerijp.dat_trac_sta[start:end,1,step-1]**2)))\n",
    "nrm = -1*Zeerijp.dat_trac_sta[start:end,2,step-1]\n",
    "ccss = ssh/nrm\n",
    "# scatter3d(x,y,z,ccss,zlim0=zlim0,zlim1=zlim1)\n",
    "\n",
    "fig = plt.figure()\n",
    "ind = np.argsort(z)\n",
    "plt.plot(ccss[ind],z[ind])\n",
    "plt.show()\n",
    "\n",
    "\n",
    "start = -1*inter\n",
    "end = -1 # 3732 3781\n",
    "x = Zeerijp.fcoord[start:end,0]\n",
    "y = Zeerijp.fcoord[start:end,1]\n",
    "z = Zeerijp.fcoord[start:end,2]\n",
    "# ccss = ((Zeerijp.dat_trac_sta[start:end,axiss,step-1]-(Zeerijp.dat_trac_sta[start:end,axiss,1]))/1e6).flatten()\n",
    "ssh = np.sqrt(((Zeerijp.dat_trac_sta[start:end,0,step-1]**2+Zeerijp.dat_trac_sta[start:end,1,step-1]**2)))\n",
    "nrm = -1*Zeerijp.dat_trac_sta[start:end,2,step-1]\n",
    "ccss = ssh/nrm\n",
    "# scatter3d(x,y,z,ccss,zlim0=zlim0,zlim1=zlim1)\n",
    "\n",
    "fig = plt.figure()\n",
    "ind = np.argsort(z)\n",
    "plt.plot(ccss[ind],z[ind])\n",
    "plt.show()\n"
   ]
  },
  {
   "cell_type": "code",
   "execution_count": 8,
   "id": "861de9f5-3ac8-4440-b717-b43aded98d60",
   "metadata": {},
   "outputs": [
    {
     "ename": "NameError",
     "evalue": "name 'inter' is not defined",
     "output_type": "error",
     "traceback": [
      "\u001b[0;31m---------------------------------------------------------------------------\u001b[0m",
      "\u001b[0;31mNameError\u001b[0m                                 Traceback (most recent call last)",
      "\u001b[0;32m/tmp/ipykernel_27448/1970270327.py\u001b[0m in \u001b[0;36m<module>\u001b[0;34m\u001b[0m\n\u001b[1;32m     13\u001b[0m \u001b[0;34m\u001b[0m\u001b[0m\n\u001b[1;32m     14\u001b[0m \u001b[0mstart\u001b[0m \u001b[0;34m=\u001b[0m \u001b[0;36m0\u001b[0m\u001b[0;34m\u001b[0m\u001b[0;34m\u001b[0m\u001b[0m\n\u001b[0;32m---> 15\u001b[0;31m \u001b[0mend\u001b[0m \u001b[0;34m=\u001b[0m \u001b[0;34m-\u001b[0m\u001b[0;36m1\u001b[0m\u001b[0;34m*\u001b[0m\u001b[0minter\u001b[0m\u001b[0;34m*\u001b[0m\u001b[0;36m2\u001b[0m \u001b[0;31m# 3732 3781\u001b[0m\u001b[0;34m\u001b[0m\u001b[0;34m\u001b[0m\u001b[0m\n\u001b[0m\u001b[1;32m     16\u001b[0m \u001b[0mx\u001b[0m \u001b[0;34m=\u001b[0m \u001b[0mZeerijp\u001b[0m\u001b[0;34m.\u001b[0m\u001b[0mfcoord\u001b[0m\u001b[0;34m[\u001b[0m\u001b[0mstart\u001b[0m\u001b[0;34m:\u001b[0m\u001b[0mend\u001b[0m\u001b[0;34m,\u001b[0m\u001b[0;36m0\u001b[0m\u001b[0;34m]\u001b[0m\u001b[0;34m\u001b[0m\u001b[0;34m\u001b[0m\u001b[0m\n\u001b[1;32m     17\u001b[0m \u001b[0my\u001b[0m \u001b[0;34m=\u001b[0m \u001b[0mZeerijp\u001b[0m\u001b[0;34m.\u001b[0m\u001b[0mfcoord\u001b[0m\u001b[0;34m[\u001b[0m\u001b[0mstart\u001b[0m\u001b[0;34m:\u001b[0m\u001b[0mend\u001b[0m\u001b[0;34m,\u001b[0m\u001b[0;36m1\u001b[0m\u001b[0;34m]\u001b[0m\u001b[0;34m\u001b[0m\u001b[0;34m\u001b[0m\u001b[0m\n",
      "\u001b[0;31mNameError\u001b[0m: name 'inter' is not defined"
     ]
    }
   ],
   "source": [
    "# ori version\n",
    "axiss = 3\n",
    "step = 20\n",
    "start = 0 # 29 34\n",
    "end = -1 # 3732 3781\n",
    "zlim0 = -3.1\n",
    "zlim1 = -2.8\n",
    "x = Zeerijp.fcoord[start:end,0]\n",
    "y = Zeerijp.fcoord[start:end,1]\n",
    "z = Zeerijp.fcoord[start:end,2]\n",
    "ccss = ((Zeerijp.dat_trac_sta[start:end,axiss,step-1]-(Zeerijp.dat_trac_sta[start:end,axiss,1]))/1e6).flatten()\n",
    "scatter3d(x,y,z,ccss)\n",
    "\n",
    "start = 0\n",
    "end = -1*inter*2 # 3732 3781\n",
    "x = Zeerijp.fcoord[start:end,0]\n",
    "y = Zeerijp.fcoord[start:end,1]\n",
    "z = Zeerijp.fcoord[start:end,2]\n",
    "ccss = ((Zeerijp.dat_trac_sta[start:end,axiss,step-1]-(Zeerijp.dat_trac_sta[start:end,axiss,1]))/1e6).flatten()\n",
    "scatter3d(x,y,z,ccss)\n"
   ]
  },
  {
   "cell_type": "code",
   "execution_count": 7,
   "id": "2781f373-be5d-4722-a269-4d96cd977a68",
   "metadata": {},
   "outputs": [],
   "source": [
    "# ori version\n",
    "axiss = 3\n",
    "step = 16\n",
    "start = 0 # 29 34\n",
    "end = -1 # 3732 3781\n",
    "zlim0 = -3.1\n",
    "zlim1 = -2.8\n",
    "x = Zeerijp.fcoord[start:end,0]\n",
    "y = Zeerijp.fcoord[start:end,1]\n",
    "z = Zeerijp.fcoord[start:end,2]\n",
    "ccss = ((Zeerijp.dat_trac_sta[start:end,axiss,step-1])/1e6).flatten()\n",
    "scatter3d(x,y,z,ccss)\n",
    "\n",
    "start = 0\n",
    "end = -53*2 # 3732 3781\n",
    "x = Zeerijp.fcoord[start:end,0]\n",
    "y = Zeerijp.fcoord[start:end,1]\n",
    "z = Zeerijp.fcoord[start:end,2]\n",
    "ccss = ((Zeerijp.dat_trac_sta[start:end,axiss,step-1])/1e6).flatten()\n",
    "scatter3d(x,y,z,ccss)\n"
   ]
  },
  {
   "cell_type": "markdown",
   "id": "f0a7311d-e26e-4181-988c-21b0e7e3d991",
   "metadata": {},
   "source": [
    "## plotting dynamic result"
   ]
  },
  {
   "cell_type": "code",
   "execution_count": 10,
   "id": "0631ac57-3b90-4e2c-a5e1-14b58df1a134",
   "metadata": {},
   "outputs": [
    {
     "name": "stdout",
     "output_type": "stream",
     "text": [
      "5274\n",
      "3258\n",
      "[    0 -8523]\n"
     ]
    }
   ],
   "source": [
    "Zeerijp.plot_Xflt_str(step=20,dsp=1)"
   ]
  },
  {
   "cell_type": "code",
   "execution_count": 60,
   "id": "9693e0e0-5e7d-4818-8d41-fc7e8b3ae50f",
   "metadata": {},
   "outputs": [
    {
     "data": {
      "image/png": "[encoded data removed]",
      "text/plain": [
       "<Figure size 432x288 with 1 Axes>"
      ]
     },
     "metadata": {
      "needs_background": "light"
     },
     "output_type": "display_data"
    },
    {
     "data": {
      "image/png": "[encoded data removed]",
      "text/plain": [
       "<Figure size 432x288 with 1 Axes>"
      ]
     },
     "metadata": {
      "needs_background": "light"
     },
     "output_type": "display_data"
    }
   ],
   "source": [
    "# differential version intersection\n",
    "axiss = 3\n",
    "step = 20\n",
    "inter = 44\n",
    "start = -1*inter*2 # 29 34\n",
    "end = -1*inter # 3732 3781\n",
    "zlim0 = -3.1\n",
    "zlim1 = -2.8\n",
    "step_dyn = 'step 20'\n",
    "x = Zeerijp.fcoord[start:end,0]\n",
    "y = Zeerijp.fcoord[start:end,1]\n",
    "z = Zeerijp.fcoord[start:end,2]\n",
    "ccss = (Zeerijp.dat_trac_sort[step_dyn][start:end,2,0]/1e6) - (Zeerijp.dat_trac_sta[start:end,3,20-1]/1e6)\n",
    "ccss = (Zeerijp.dat_trac_sort[step_dyn][start:end,2,2]/1e6)\n",
    "# ccss = (Zeerijp.dat_trac_sta[start:end,3,20-1]/1e6)\n",
    "# ccss = (Zeerijp.dat_trac_sta[start:end,2,20-1]/1e6)\n",
    "# scatter3d(x,y,z,ccss,zlim0=zlim0,zlim1=zlim1)\n",
    "\n",
    "fig = plt.figure()\n",
    "ind = np.argsort(z)\n",
    "plt.plot(ccss[ind],z[ind])\n",
    "plt.show()\n",
    "\n",
    "\n",
    "start = -1*inter\n",
    "end = -1 # 3732 3781\n",
    "x = Zeerijp.fcoord[start:end,0]\n",
    "y = Zeerijp.fcoord[start:end,1]\n",
    "z = Zeerijp.fcoord[start:end,2]\n",
    "ccss = (Zeerijp.dat_trac_sort[step_dyn][start:end,2,0]/1e6) - (Zeerijp.dat_trac_sta[start:end,3,20-1]/1e6)\n",
    "ccss = (Zeerijp.dat_trac_sort[step_dyn][start:end,2,2]/1e6)\n",
    "# ccss = (Zeerijp.dat_trac_sta[start:end,2,20-1]/1e6)\n",
    "# scatter3d(x,y,z,ccss,zlim0=zlim0,zlim1=zlim1)\n",
    "\n",
    "fig = plt.figure()\n",
    "ind = np.argsort(z)\n",
    "plt.plot(ccss[ind],z[ind])\n",
    "plt.show()\n"
   ]
  },
  {
   "cell_type": "code",
   "execution_count": 66,
   "id": "21323dcd-eaf5-4fe8-bb64-2c9a95080dda",
   "metadata": {},
   "outputs": [
    {
     "data": {
      "image/png": "[encoded data removed]",
      "text/plain": [
       "<Figure size 432x288 with 1 Axes>"
      ]
     },
     "metadata": {
      "needs_background": "light"
     },
     "output_type": "display_data"
    },
    {
     "data": {
      "image/png": "[encoded data removed]",
      "text/plain": [
       "<Figure size 432x288 with 1 Axes>"
      ]
     },
     "metadata": {
      "needs_background": "light"
     },
     "output_type": "display_data"
    }
   ],
   "source": [
    "# differential version intersection\n",
    "Zeerijp = plot3D(\"/home/jingmingruan/Desktop/defmod_runs/3D_Xflt/Buijze3D_fe_90_ho_xflt.h5\",dyn=dyn,xflt=0,seis=seis)\n",
    "\n",
    "step = 20\n",
    "inter = 44\n",
    "start = -1*inter*2 # 29 34\n",
    "end = -1*inter # 3732 3781\n",
    "# start = 0\n",
    "# end = -100\n",
    "zlim0 = -3.1\n",
    "zlim1 = -2.8\n",
    "step_dyn = 'step 20'\n",
    "x = Zeerijp.fcoord[start:end,0]\n",
    "y = Zeerijp.fcoord[start:end,1]\n",
    "z = Zeerijp.fcoord[start:end,2]\n",
    "ccss = (Zeerijp.dat_trac_sort[step_dyn][start:end,2,0]/1e6) - (Zeerijp.dat_trac_sta[start:end,3,20-1]/1e6)\n",
    "ccss = (Zeerijp.dat_trac_sort[step_dyn][start:end,2,0]/1e6)\n",
    "# ccss = (Zeerijp.dat_trac_sta[start:end,3,20-1]/1e6)\n",
    "# ccss = (Zeerijp.dat_trac_sta[start:end,2,20-1]/1e6)\n",
    "# scatter3d(x,y,z,ccss,zlim0=zlim0,zlim1=zlim1)\n",
    "\n",
    "fig = plt.figure()\n",
    "ind = np.argsort(z)\n",
    "plt.plot(ccss[ind],z[ind])\n",
    "plt.show()\n",
    "\n",
    "\n",
    "start = -1*inter # 29 34\n",
    "end = -1 # 3732 3781\n",
    "\n",
    "x = Zeerijp.fcoord[start:end,0]\n",
    "y = Zeerijp.fcoord[start:end,1]\n",
    "z = Zeerijp.fcoord[start:end,2]\n",
    "ccss = (Zeerijp.dat_trac_sort[step_dyn][start:end,2,0]/1e6) - (Zeerijp.dat_trac_sta[start:end,3,20-1]/1e6)\n",
    "ccss = (Zeerijp.dat_trac_sort[step_dyn][start:end,2,0]/1e6)\n",
    "# ccss = (Zeerijp.dat_trac_sta[start:end,2,20-1]/1e6)\n",
    "# scatter3d(x,y,z,ccss,zlim0=zlim0,zlim1=zlim1)\n",
    "\n",
    "fig = plt.figure()\n",
    "ind = np.argsort(z)\n",
    "plt.plot(ccss[ind],z[ind])\n",
    "plt.show()\n"
   ]
  },
  {
   "cell_type": "code",
   "execution_count": 71,
   "id": "05d98726-a2a3-46aa-a226-a36c45b3b43e",
   "metadata": {},
   "outputs": [
    {
     "data": {
      "image/png": "[encoded data removed]",
      "text/plain": [
       "<Figure size 432x288 with 1 Axes>"
      ]
     },
     "metadata": {
      "needs_background": "light"
     },
     "output_type": "display_data"
    },
    {
     "data": {
      "image/png": "[encoded data removed]",
      "text/plain": [
       "<Figure size 432x288 with 1 Axes>"
      ]
     },
     "metadata": {
      "needs_background": "light"
     },
     "output_type": "display_data"
    }
   ],
   "source": [
    "# differential version intersection\n",
    "Zeerijp = plot3D(\"/home/jingmingruan/Desktop/defmod_runs/3D_Xflt/Buijze3D_fe_90check.h5\",dyn=dyn,xflt=1,seis=seis)\n",
    "\n",
    "step = 20\n",
    "inter = 44\n",
    "start = -1*inter*2 # 29 34\n",
    "end = -1*inter # 3732 3781\n",
    "# start = 0\n",
    "# end = -100\n",
    "zlim0 = -3.1\n",
    "zlim1 = -2.8\n",
    "step_dyn = 'step 20'\n",
    "x = Zeerijp.fcoord[start:end,0]\n",
    "y = Zeerijp.fcoord[start:end,1]\n",
    "z = Zeerijp.fcoord[start:end,2]\n",
    "ccss = (Zeerijp.dat_trac_sort[step_dyn][start:end,2,0]/1e6) - (Zeerijp.dat_trac_sta[start:end,3,20-1]/1e6)\n",
    "ccss = (Zeerijp.dat_trac_sort[step_dyn][start:end,0,1]/1e6)\n",
    "# ccss = (Zeerijp.dat_trac_sta[start:end,3,20-1]/1e6)\n",
    "# ccss = (Zeerijp.dat_trac_sta[start:end,2,20-1]/1e6)\n",
    "# scatter3d(x,y,z,ccss,zlim0=zlim0,zlim1=zlim1)\n",
    "\n",
    "fig = plt.figure()\n",
    "ind = np.argsort(z)\n",
    "plt.plot(ccss[ind],z[ind])\n",
    "plt.show()\n",
    "\n",
    "\n",
    "start = -1*inter # 29 34\n",
    "end = -1 # 3732 3781\n",
    "\n",
    "x = Zeerijp.fcoord[start:end,0]\n",
    "y = Zeerijp.fcoord[start:end,1]\n",
    "z = Zeerijp.fcoord[start:end,2]\n",
    "ccss = (Zeerijp.dat_trac_sort[step_dyn][start:end,2,0]/1e6) - (Zeerijp.dat_trac_sta[start:end,3,20-1]/1e6)\n",
    "ccss = (Zeerijp.dat_trac_sort[step_dyn][start:end,0,1]/1e6)\n",
    "# ccss = (Zeerijp.dat_trac_sta[start:end,2,20-1]/1e6)\n",
    "# scatter3d(x,y,z,ccss,zlim0=zlim0,zlim1=zlim1)\n",
    "\n",
    "fig = plt.figure()\n",
    "ind = np.argsort(z)\n",
    "plt.plot(ccss[ind],z[ind])\n",
    "plt.show()\n"
   ]
  },
  {
   "cell_type": "code",
   "execution_count": null,
   "id": "ce2c02ce-a64d-40b6-a74c-b95f55a6072e",
   "metadata": {},
   "outputs": [],
   "source": []
  },
  {
   "cell_type": "code",
   "execution_count": null,
   "id": "80bfe5c7-e608-48eb-8ec7-e205ebdb0cbd",
   "metadata": {},
   "outputs": [],
   "source": []
  },
  {
   "cell_type": "code",
   "execution_count": 54,
   "id": "233734c2-bf00-4c4e-8145-02250e7a04ad",
   "metadata": {},
   "outputs": [
    {
     "data": {
      "image/png": "[encoded data removed]",
      "text/plain": [
       "<Figure size 432x288 with 1 Axes>"
      ]
     },
     "metadata": {
      "needs_background": "light"
     },
     "output_type": "display_data"
    },
    {
     "data": {
      "image/png": "[encoded data removed]",
      "text/plain": [
       "<Figure size 432x288 with 1 Axes>"
      ]
     },
     "metadata": {
      "needs_background": "light"
     },
     "output_type": "display_data"
    },
    {
     "data": {
      "image/png": "[encoded data removed]",
      "text/plain": [
       "<Figure size 432x288 with 1 Axes>"
      ]
     },
     "metadata": {
      "needs_background": "light"
     },
     "output_type": "display_data"
    }
   ],
   "source": [
    "Zeerijp = plot3D(\"/home/jingmingruan/Desktop/defmod_runs/3D_Xflt/Buijze3D_fe_90_ho_xflt.h5\",dyn=dyn,xflt=0,seis=seis)\n",
    "# Zeerijp = plot3D(\"/home/jingmingruan/Desktop/defmod_runs/3D_Xflt/Buijze3D_fe_90_conv.h5\",dyn=dyn,seis=seis)\n",
    "\n",
    "# comapring stress on the main fault and the aux fault\n",
    "axis = 0\n",
    "step = 20\n",
    "inter = 44\n",
    "start = -1*inter*2 # 29 34\n",
    "end = -1*inter\n",
    "zlim0 = -3.1\n",
    "zlim1 = -2.8\n",
    "\n",
    "# start = 0\n",
    "# end = -1\n",
    "\n",
    "x = Zeerijp.fcoord[start:end,0]\n",
    "y = Zeerijp.fcoord[start:end,1]\n",
    "z = Zeerijp.fcoord[start:end,2]\n",
    "\n",
    "ccss = (Zeerijp.dat_trac_sta[start:end,axis,step-1]/1e6) - (Zeerijp.dat_trac_sta[start:end,axis,1]/1e6)\n",
    "ccss = (Zeerijp.dat_trac_sta[start:end,axis,step-1]/1e6)\n",
    "\n",
    "fig = plt.figure()\n",
    "ind = np.argsort(z)\n",
    "plt.plot(ccss[ind],z[ind])\n",
    "plt.xlabel('Stress [MPa]')\n",
    "plt.ylabel('Z [km]')\n",
    "plt.show()\n",
    "\n",
    "Zeerijp = plot3D(\"/home/jingmingruan/Desktop/defmod_runs/3D_Xflt/Buijze3D_fe_90check.h5\",dyn=dyn,xflt=1,seis=seis)\n",
    "\n",
    "x = Zeerijp.fcoord[start:end,0]\n",
    "y = Zeerijp.fcoord[start:end,1]\n",
    "z = Zeerijp.fcoord[start:end,2]\n",
    "\n",
    "ccss = (Zeerijp.dat_trac_sta[start:end,axis,step-1]/1e6) - (Zeerijp.dat_trac_sta[start:end,axis,1]/1e6)\n",
    "ccss = (Zeerijp.dat_trac_sta[start:end,axis,step-1]/1e6)\n",
    "\n",
    "fig = plt.figure()\n",
    "ind = np.argsort(z)\n",
    "plt.plot(ccss[ind],z[ind])\n",
    "plt.xlabel('Stress [MPa]')\n",
    "plt.ylabel('Z [km]')\n",
    "plt.show()\n",
    "\n",
    "x = Zeerijp.fcoord[start:end,0]\n",
    "y = Zeerijp.fcoord[start:end,1]\n",
    "z = Zeerijp.fcoord[start:end,2]\n",
    "ccss = (Zeerijp.dat_tracx_sta[start:end,axis,step-1]/1e6) - (Zeerijp.dat_tracx_sta[start:end,axis,1]/1e6)\n",
    "ccss = (Zeerijp.dat_tracx_sta[start:end,axis,step-1]/1e6)\n",
    "fig = plt.figure()\n",
    "ind = np.argsort(z)\n",
    "plt.plot(ccss[ind],z[ind])\n",
    "plt.xlabel('Stress [MPa]')\n",
    "plt.ylabel('Z [km]')\n",
    "plt.show()\n"
   ]
  },
  {
   "cell_type": "code",
   "execution_count": 55,
   "id": "e1aded67-d000-4a80-9092-42451d187d6c",
   "metadata": {},
   "outputs": [
    {
     "data": {
      "image/png": "[encoded data removed]",
      "text/plain": [
       "<Figure size 432x288 with 1 Axes>"
      ]
     },
     "metadata": {
      "needs_background": "light"
     },
     "output_type": "display_data"
    },
    {
     "data": {
      "image/png": "[encoded data removed]",
      "text/plain": [
       "<Figure size 432x288 with 1 Axes>"
      ]
     },
     "metadata": {
      "needs_background": "light"
     },
     "output_type": "display_data"
    },
    {
     "data": {
      "image/png": "[encoded data removed]",
      "text/plain": [
       "<Figure size 432x288 with 1 Axes>"
      ]
     },
     "metadata": {
      "needs_background": "light"
     },
     "output_type": "display_data"
    }
   ],
   "source": [
    "Zeerijp = plot3D(\"/home/jingmingruan/Desktop/defmod_runs/3D_Xflt/Buijze3D_fe_90_ho_xflt.h5\",dyn=dyn,xflt=0,seis=seis)\n",
    "# Zeerijp = plot3D(\"/home/jingmingruan/Desktop/defmod_runs/3D_Xflt/Buijze3D_fe_90_conv.h5\",dyn=dyn,seis=seis)\n",
    "\n",
    "# comapring stress on the main fault and the aux fault\n",
    "start = -1*inter*1 # 29 34\n",
    "end = -1\n",
    "# start = 0\n",
    "# end = -1\n",
    "zlim0 = -3.1\n",
    "zlim1 = -2.8\n",
    "x = Zeerijp.fcoord[start:end,0]\n",
    "y = Zeerijp.fcoord[start:end,1]\n",
    "z = Zeerijp.fcoord[start:end,2]\n",
    "\n",
    "ccss = (Zeerijp.dat_trac_sta[start:end,axis,step-1]/1e6) - (Zeerijp.dat_trac_sta[start:end,axis,1]/1e6)\n",
    "ccss = (Zeerijp.dat_trac_sta[start:end,axis,step-1]/1e6)\n",
    "\n",
    "fig = plt.figure()\n",
    "ind = np.argsort(z)\n",
    "plt.plot(ccss[ind],z[ind])\n",
    "plt.xlabel('Stress [MPa]')\n",
    "plt.ylabel('Z [km]')\n",
    "plt.show()\n",
    "\n",
    "Zeerijp = plot3D(\"/home/jingmingruan/Desktop/defmod_runs/3D_Xflt/Buijze3D_fe_90check.h5\",dyn=dyn,xflt=1,seis=seis)\n",
    "\n",
    "zlim0 = -3.1\n",
    "zlim1 = -2.8\n",
    "x = Zeerijp.fcoord[start:end,0]\n",
    "y = Zeerijp.fcoord[start:end,1]\n",
    "z = Zeerijp.fcoord[start:end,2]\n",
    "\n",
    "ccss = (Zeerijp.dat_trac_sta[start:end,axis,step-1]/1e6) - (Zeerijp.dat_trac_sta[start:end,axis,1]/1e6)\n",
    "ccss = (Zeerijp.dat_trac_sta[start:end,axis,step-1]/1e6)\n",
    "\n",
    "fig = plt.figure()\n",
    "ind = np.argsort(z)\n",
    "plt.plot(ccss[ind],z[ind])\n",
    "plt.xlabel('Stress [MPa]')\n",
    "plt.ylabel('Z [km]')\n",
    "plt.show()\n",
    "\n",
    "x = Zeerijp.fcoord[start:end,0]\n",
    "y = Zeerijp.fcoord[start:end,1]\n",
    "z = Zeerijp.fcoord[start:end,2]\n",
    "ccss = (Zeerijp.dat_tracx_sta[start:end,axis,step-1]/1e6) - (Zeerijp.dat_tracx_sta[start:end,axis,1]/1e6)\n",
    "ccss = (Zeerijp.dat_tracx_sta[start:end,axis,step-1]/1e6)\n",
    "fig = plt.figure()\n",
    "ind = np.argsort(z)\n",
    "plt.plot(ccss[ind],z[ind])\n",
    "plt.xlabel('Stress [MPa]')\n",
    "plt.ylabel('Z [km]')\n",
    "plt.show()\n"
   ]
  },
  {
   "cell_type": "code",
   "execution_count": null,
   "id": "eeaf51ef-2187-4e08-8096-38761b2b4b07",
   "metadata": {},
   "outputs": [],
   "source": []
  },
  {
   "cell_type": "markdown",
   "id": "6852e36d-c6fe-4d78-932c-9f552fed44b5",
   "metadata": {},
   "source": [
    "# contour"
   ]
  },
  {
   "cell_type": "code",
   "execution_count": 15,
   "id": "b98207e9-fe45-48d7-9503-ea2faec924ed",
   "metadata": {},
   "outputs": [
    {
     "name": "stdout",
     "output_type": "stream",
     "text": [
      "85313\n",
      "53028\n",
      "[      0 -138332]\n",
      "1.0831289937290397e-17 0.0454296066631697\n",
      "(85313, 200)\n",
      "0.0 1000000000.0\n",
      "3.649768885027699e-18 0.013700274621002336\n",
      "0.0 1000000000.0\n"
     ]
    }
   ],
   "source": [
    "Zeerijp.plot_Xflt_rup_ct(step='step 28',dsp=1)"
   ]
  },
  {
   "cell_type": "code",
   "execution_count": 84,
   "id": "f34a287c-c3d4-4a26-9e46-5ace3ea8b7c2",
   "metadata": {},
   "outputs": [
    {
     "name": "stdout",
     "output_type": "stream",
     "text": [
      "5274\n",
      "3258\n",
      "[    0 -8523]\n"
     ]
    }
   ],
   "source": [
    "Zeerijp.plot_Xflt_str(step=16,dsp=1)"
   ]
  },
  {
   "cell_type": "code",
   "execution_count": 11,
   "id": "dc0bc202-190b-4ba4-9bd3-ab3cec7a6db9",
   "metadata": {},
   "outputs": [
    {
     "name": "stdout",
     "output_type": "stream",
     "text": [
      "85313\n",
      "53028\n",
      "[      0 -138332]\n"
     ]
    }
   ],
   "source": [
    "Zeerijp.plot_Xflt_str_dyn(step='step 28',dsp=1,timedyn=0)"
   ]
  },
  {
   "cell_type": "code",
   "execution_count": 74,
   "id": "e8d7b558-015b-44b4-bb62-349717cbaa56",
   "metadata": {},
   "outputs": [
    {
     "name": "stdout",
     "output_type": "stream",
     "text": [
      "5274\n",
      "3258\n",
      "[    0 -8523]\n"
     ]
    }
   ],
   "source": [
    "Zeerijp.plot_Xflt_str_dyn(step='step 23',dsp=1,timedyn=0)"
   ]
  },
  {
   "cell_type": "code",
   "execution_count": null,
   "id": "d06fa0a1-94ae-4861-af5a-b6bf88bdaac3",
   "metadata": {},
   "outputs": [],
   "source": []
  },
  {
   "cell_type": "code",
   "execution_count": null,
   "id": "ec585819-ed57-4b88-a511-a57fea96239b",
   "metadata": {},
   "outputs": [],
   "source": []
  }
 ],
 "metadata": {
  "kernelspec": {
   "display_name": "base",
   "language": "python",
   "name": "base"
  },
  "language_info": {
   "codemirror_mode": {
    "name": "ipython",
    "version": 3
   },
   "file_extension": ".py",
   "mimetype": "text/x-python",
   "name": "python",
   "nbconvert_exporter": "python",
   "pygments_lexer": "ipython3",
   "version": "3.7.4"
  },
  "toc-autonumbering": true,
  "toc-showcode": false,
  "toc-showmarkdowntxt": false,
  "toc-showtags": false
 },
 "nbformat": 4,
 "nbformat_minor": 5
}
