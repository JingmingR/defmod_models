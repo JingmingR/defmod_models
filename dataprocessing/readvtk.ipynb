{
 "cells": [
  {
   "cell_type": "code",
   "execution_count": 1,
   "id": "10147c87-d552-45f4-90b2-6c2ca6beb824",
   "metadata": {},
   "outputs": [],
   "source": [
    "import meshio\n",
    "import numpy as np"
   ]
  },
  {
   "cell_type": "code",
   "execution_count": 2,
   "id": "c824fc64-f872-47e8-9cda-1012bac4515d",
   "metadata": {},
   "outputs": [
    {
     "name": "stdout",
     "output_type": "stream",
     "text": [
      "00\n"
     ]
    }
   ],
   "source": [
    "for j in range(0,1): # steps\n",
    "    string = str(j)\n",
    "    print (string.zfill(2))\n",
    "    \n",
    "    coord = np.empty((0,3))\n",
    "    tet_cell = np.empty((0,4))\n",
    "    ss = np.empty((0,3))\n",
    "    sh = np.empty((0,3))\n",
    "    pressure = np.empty((0))\n",
    "    fls = np.empty((0))\n",
    "    fld = np.empty((0))\n",
    "    fln = np.empty((0))\n",
    "    fl = np.empty((0,3))\n",
    "    displacements = np.empty((0,3))\n",
    "    qu = np.empty((0))\n",
    "    fp = np.empty((0,3))\n",
    "    ql = np.empty((0))\n",
    "    \n",
    "    for i in range(0,40):# threads\n",
    "        mesh = meshio.read('./45_vo_high/vtk/%d_Buijze3D_0000' %(i) + string.zfill(2) +'.vtk' )\n",
    "        tet_cell = np.vstack((tet_cell,(mesh.cells['tetra']+len(coord))))\n",
    "        coord = np.vstack((coord,mesh.points))\n",
    "        ss = np.vstack((ss,mesh.point_data['ss']))\n",
    "        sh = np.vstack((sh,mesh.point_data['sh']))\n",
    "        pressure = np.hstack((pressure,mesh.point_data['pressure']))\n",
    "        displacements = np.vstack((displacements,mesh.point_data['displacements']))\n",
    "        fls = np.hstack((fls,mesh.point_data['fls']))\n",
    "        fld = np.hstack((fld,mesh.point_data['fld']))\n",
    "        fln = np.hstack((fln,mesh.point_data['fln']))\n",
    "        fl = np.vstack((fl,mesh.point_data['fl']))\n",
    "        qu = np.hstack((qu,mesh.point_data['qu']))\n",
    "        fp = np.vstack((fp,mesh.point_data['fp']))\n",
    "        ql = np.hstack((ql,mesh.point_data['ql']))\n",
    "        \n",
    "    tet_cell = {'tetra' : tet_cell}\n",
    "    mesh_ = meshio.Mesh(\n",
    "        coord,\n",
    "        tet_cell,\n",
    "        point_data={\"ss\": ss,\n",
    "                    \"sh\": sh,\n",
    "                    \"pressure\": pressure,\n",
    "                    \"displacements\": displacements,\n",
    "                    \"fls\": fls,\n",
    "                    \"fld\": fld,\n",
    "                    \"fln\": fln,\n",
    "                    \"fl\": fl,\n",
    "                    \"qu\": qu,\n",
    "                    \"fp\": fp,\n",
    "                    \"ql\": ql,\n",
    "                   },\n",
    "    #     cell_data={\"a\": [[0.1, 0.2], [0.4]]},\n",
    "    )\n",
    "    mesh_.write(\n",
    "        \"foo_\" + string.zfill(2) + \".vtk\",  # str, os.PathLike, or buffer/open file\n",
    "    )\n",
    "\n"
   ]
  },
  {
   "cell_type": "code",
   "execution_count": 3,
   "id": "07467e1a-dca3-4bca-b686-6d56d65c5510",
   "metadata": {},
   "outputs": [
    {
     "name": "stdout",
     "output_type": "stream",
     "text": [
      "2023-04-18 10:00:55.310690\n",
      "Done\n"
     ]
    }
   ],
   "source": [
    "import datetime\n",
    "print(datetime.datetime.now())\n",
    "print ('Done')"
   ]
  },
  {
   "cell_type": "code",
   "execution_count": null,
   "id": "b0328a35-b52c-4e64-b07c-47e83c510bc3",
   "metadata": {},
   "outputs": [],
   "source": []
  }
 ],
 "metadata": {
  "kernelspec": {
   "display_name": "Python 3",
   "language": "python",
   "name": "python3"
  },
  "language_info": {
   "codemirror_mode": {
    "name": "ipython",
    "version": 3
   },
   "file_extension": ".py",
   "mimetype": "text/x-python",
   "name": "python",
   "nbconvert_exporter": "python",
   "pygments_lexer": "ipython3",
   "version": "3.7.4"
  }
 },
 "nbformat": 4,
 "nbformat_minor": 5
}
