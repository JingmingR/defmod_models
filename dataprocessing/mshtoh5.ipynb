{
 "cells": [
  {
   "cell_type": "code",
   "execution_count": 1,
   "metadata": {},
   "outputs": [],
   "source": [
    "# 10-08-2020: new 3D model extended from P2Dwe\n",
    "\n",
    "# gernal idea for adapting to 3D:\n",
    "# make split node pairs (way to examine all split nodes?)\n",
    "\n",
    "# 13-10-2020: need to modify defmod the code with hydrostaic pressure gradient reading \n",
    "# 14-10-2020: make the new P sync boundary condtion\n",
    "\n",
    "# 11-08-2021: make change for one fault multiple faults (search \"input\" to locate the parameters you want to change)\n",
    "\n",
    "# 23-08-2021: to do: stable initial loading; boundary reflection"
   ]
  },
  {
   "cell_type": "code",
   "execution_count": 2,
   "metadata": {},
   "outputs": [],
   "source": [
    "import numpy as np\n",
    "import h5py\n",
    "import os, sys\n",
    "sys.path.append('/home/jingmingruan/ownCloud/dataprocessing')\n",
    "# sys.path.append('/home/jingmingruan/TUD/DeepNL/cloud/dataprocessing')\n",
    "from inpfunc import *"
   ]
  },
  {
   "cell_type": "code",
   "execution_count": 3,
   "metadata": {
    "tags": []
   },
   "outputs": [
    {
     "name": "stdout",
     "output_type": "stream",
     "text": [
      "Exporting FE mesh to hdf5 file\n",
      "Reading form Buijze3D.msh ....\n",
      "element type is triangle/tetra\n",
      "<meshio mesh object>\n",
      "  Number of points: 268143\n",
      "  Number of cells:\n",
      "    line: 565\n",
      "    triangle: 301124\n",
      "    tetra: 1455840\n",
      "  Cell data: gmsh:physical\n",
      "(1455840, 4)\n",
      "(1455840,)\n",
      "Converting m to km...\n",
      "(268143, 3)\n",
      "Model origin(zmax): 0.0,0.0,0...\n",
      "(268143, 3)\n",
      "1757529\n",
      "1 1\n",
      "Outputting FE mesh file Buijze3D.h5...\n",
      "1 12\n",
      "1\n",
      "2\n",
      "3\n",
      "4\n",
      "5\n",
      "6\n",
      "7\n",
      "8\n",
      "9\n",
      "10\n",
      "11\n",
      "12\n",
      "13 36\n",
      "13\n",
      "14\n",
      "15\n",
      "16\n",
      "17\n",
      "18\n",
      "19\n",
      "20\n",
      "21\n",
      "22\n",
      "23\n",
      "24\n",
      "25\n",
      "26\n",
      "27\n",
      "28\n",
      "29\n",
      "30\n",
      "31\n",
      "32\n",
      "33\n",
      "34\n",
      "35\n",
      "36\n",
      "37 38\n",
      "37\n",
      "38\n",
      "Buijze3D.h5 created.\n"
     ]
    }
   ],
   "source": [
    "# convert msh to h5\n",
    "%run /home/jingmingruan/ownCloud/dataprocessing/Gmsh_h5_3D.py -m Buijze3D -e2 \"triangle\" -e3 \"tetra\" -mo 0 -km 0 -ro 0\n",
    "# %run /home/jingmingruan/TUD/DeepNL/cloud/dataprocessing/Gmsh_h5_3D.py -m Zeerijp -e2 \"triangle\" -e3 \"tetra\" -mo 1 -km 0"
   ]
  },
  {
   "cell_type": "code",
   "execution_count": null,
   "metadata": {},
   "outputs": [],
   "source": []
  },
  {
   "cell_type": "code",
   "execution_count": null,
   "metadata": {},
   "outputs": [],
   "source": []
  },
  {
   "cell_type": "code",
   "execution_count": null,
   "metadata": {},
   "outputs": [],
   "source": []
  },
  {
   "cell_type": "code",
   "execution_count": null,
   "metadata": {},
   "outputs": [],
   "source": []
  }
 ],
 "metadata": {
  "kernelspec": {
   "display_name": "base",
   "language": "python",
   "name": "base"
  },
  "language_info": {
   "codemirror_mode": {
    "name": "ipython",
    "version": 3
   },
   "file_extension": ".py",
   "mimetype": "text/x-python",
   "name": "python",
   "nbconvert_exporter": "python",
   "pygments_lexer": "ipython3",
   "version": "3.7.4"
  }
 },
 "nbformat": 4,
 "nbformat_minor": 4
}
