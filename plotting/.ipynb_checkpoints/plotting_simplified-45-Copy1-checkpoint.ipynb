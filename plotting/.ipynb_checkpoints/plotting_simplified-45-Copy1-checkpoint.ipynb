{
 "cells": [
  {
   "cell_type": "code",
   "execution_count": 1,
   "id": "64f4b5cf",
   "metadata": {},
   "outputs": [],
   "source": [
    "# %matplotlib inline\n",
    "%matplotlib qt\n",
    "import numpy as np\n",
    "import matplotlib.animation\n",
    "from mpl_toolkits.mplot3d import Axes3D\n",
    "import matplotlib.pyplot as plt\n",
    "import matplotlib.cm as cmx\n",
    "import matplotlib\n",
    "import numpy as np\n",
    "import h5py\n",
    "import math\n",
    "import os, sys\n",
    "%load_ext autoreload\n",
    "%autoreload 2\n",
    "sys.path.append('/home/jingmingruan/ownCloud/dataprocessing')\n",
    "# sys.path.append('/home/jingmingruan/TUD/DeepNL/cloud/dataprocessing')\n",
    "from plot_3D_Xflt import *"
   ]
  },
  {
   "cell_type": "markdown",
   "id": "77a17e10-adcb-4894-a7b8-78c807ed13a5",
   "metadata": {},
   "source": [
    "# Load data"
   ]
  },
  {
   "cell_type": "code",
   "execution_count": 2,
   "id": "e2a1779c",
   "metadata": {},
   "outputs": [],
   "source": [
    "dyn = 1\n",
    "seis = 0\n",
    "vline = 1.0\n",
    "axis = 1\n",
    "mask = 0.6\n",
    "delta = 0\n",
    "xyaxis = 1\n",
    "projection=True\n",
    "vline = 0.8\n",
    "\n",
    "# Zeerijp = plot3D(\"/media/jingmingruan/BACKUP/TUD/delftblue/3D/3D_mfvaryingoffset/intersection_angle/45_001mpaseismic/Buijze3D_fe.h5\",dyn=dyn,seis=seis) # \n",
    "# tri_file = \"/media/jingmingruan/BACKUP/TUD/delftblue/3D/3D_mfvaryingoffset/intersection_angle/45/flt_tri_nob.npy\" # \"./Zeerijp/flt_tri_nob.npy\" \"./Buijze3D_offset/flt_tri_nob.npy\"\n",
    "\n",
    "Zeerijp = plot3D(\"/home/jingmingruan/Desktop/defmod_runs/3D_Xflt/Buijze3D_fe_xflt_convint.h5\",dyn=dyn,seis=seis)\n",
    "tri_file = \"/home/jingmingruan/Desktop/defmod_runs/3D_Xflt/flt_tri_nob.npy\" # \"./Zeerijp/flt_tri_nob.npy\" \"./Buijze3D_offset/flt_tri_nob.npy\"\n"
   ]
  },
  {
   "cell_type": "code",
   "execution_count": 3,
   "id": "24d74244-9d6b-4031-bfd0-5994a9bd039f",
   "metadata": {
    "tags": []
   },
   "outputs": [
    {
     "name": "stdout",
     "output_type": "stream",
     "text": [
      "dict_keys(['step [1 1]'])\n",
      "[[1 1]\n",
      " [1 0]]\n",
      "[171]\n"
     ]
    }
   ],
   "source": [
    "if dyn:\n",
    "    print (Zeerijp.dat_trac_sort.keys())\n",
    "    print (Zeerijp.dat_log)\n",
    "    print (Zeerijp.dat_log_dyn)"
   ]
  },
  {
   "cell_type": "code",
   "execution_count": 4,
   "id": "b56f23af-f254-4b28-af1b-bd5f6ca104cb",
   "metadata": {},
   "outputs": [],
   "source": [
    "def scatter3d(x,y,z, cs, colorsMap='jet'):\n",
    "    cm = plt.get_cmap(colorsMap)\n",
    "    cNorm = matplotlib.colors.Normalize(vmin=min(cs), vmax=max(cs))\n",
    "    scalarMap = cmx.ScalarMappable(norm=cNorm, cmap=cm)\n",
    "    fig = plt.figure()\n",
    "    ax = Axes3D(fig)\n",
    "    ax.scatter(x, y, z, c=scalarMap.to_rgba(cs))\n",
    "    scalarMap.set_array(cs)\n",
    "    fig.colorbar(scalarMap,label='Test')\n",
    "    ax.view_init(20, 30)\n",
    "    plt.show()\n"
   ]
  },
  {
   "cell_type": "markdown",
   "id": "9ca72676-d10c-4dd6-bd57-8c7d4e638c67",
   "metadata": {},
   "source": [
    "###  Notes about the data from Xflt:\n",
    "#### The intersection by the code cannot reactivate from the aux fault!!\n",
    "#### Therefore before being critical, the trac and slip are both evaluated at the main fault!!\n",
    "#### If the intersection is critical, depends on which fault has a stronger shear stress. "
   ]
  },
  {
   "cell_type": "code",
   "execution_count": 5,
   "id": "9720f83b-f169-4ad7-81fd-44d3c3962e57",
   "metadata": {},
   "outputs": [
    {
     "data": {
      "text/plain": [
       "(8532, 3, 171)"
      ]
     },
     "execution_count": 5,
     "metadata": {},
     "output_type": "execute_result"
    }
   ],
   "source": [
    "dyn_step_name = 'step [1 1]'\n",
    "Zeerijp.dat_slip_sort[dyn_step_name].shape"
   ]
  },
  {
   "cell_type": "code",
   "execution_count": 8,
   "id": "ef856a8f-9676-48e2-b09f-892cf158a2f4",
   "metadata": {},
   "outputs": [],
   "source": [
    "axiss = 1\n",
    "start = 0\n",
    "end = -53*2 # 3732 3781 3830\n",
    "# end = -1 # 3732 3781 3830"
   ]
  },
  {
   "cell_type": "code",
   "execution_count": 9,
   "id": "afb80ccb-1f5d-4119-9efe-d005e4ef76e3",
   "metadata": {},
   "outputs": [],
   "source": [
    "x = Zeerijp.fcoord[start:end,0]\n",
    "y = Zeerijp.fcoord[start:end,1]\n",
    "z = Zeerijp.fcoord[start:end,2]\n",
    "# ccss = Zeerijp.dat_slip_sort[dyn_step_name][start:end,axiss,0]\n",
    "ccss = np.sqrt(Zeerijp.dat_slip_sort[dyn_step_name][start:end,0,0]**2 \\\n",
    "        + Zeerijp.dat_slip_sort[dyn_step_name][start:end,1,0]**2)\n",
    "\n",
    "scatter3d(x,y,z,ccss)"
   ]
  },
  {
   "cell_type": "code",
   "execution_count": 18,
   "id": "a0189861-5d8c-47ac-a67f-e92df14e58d5",
   "metadata": {},
   "outputs": [],
   "source": [
    "x = Zeerijp.fcoord[start:end,0]\n",
    "y = Zeerijp.fcoord[start:end,1]\n",
    "z = Zeerijp.fcoord[start:end,2]\n",
    "# ccss = Zeerijp.dat_slip_sort[dyn_step_name][start:end,axiss,20]\n",
    "ccss = np.sqrt(Zeerijp.dat_slip_sort[dyn_step_name][start:end,0,20]**2 \\\n",
    "        + Zeerijp.dat_slip_sort[dyn_step_name][start:end,1,20]**2)\n",
    "\n",
    "scatter3d(x,y,z,ccss)"
   ]
  },
  {
   "cell_type": "code",
   "execution_count": 19,
   "id": "22c2e648-2c25-4941-9edc-12afa549e5c2",
   "metadata": {},
   "outputs": [],
   "source": [
    "\n",
    "x = Zeerijp.fcoord[start:end,0]\n",
    "y = Zeerijp.fcoord[start:end,1]\n",
    "z = Zeerijp.fcoord[start:end,2]\n",
    "# ccss = Zeerijp.dat_slip_sort[dyn_step_name][start:end,axiss,40]\n",
    "ccss = np.sqrt(Zeerijp.dat_slip_sort[dyn_step_name][start:end,0,60]**2 \\\n",
    "        + Zeerijp.dat_slip_sort[dyn_step_name][start:end,1,60]**2)\n",
    "\n",
    "scatter3d(x,y,z,ccss)"
   ]
  },
  {
   "cell_type": "code",
   "execution_count": 20,
   "id": "c7d80016-b68d-4694-b9e5-4b0fc12abb6f",
   "metadata": {},
   "outputs": [],
   "source": [
    "\n",
    "x = Zeerijp.fcoord[start:end,0]\n",
    "y = Zeerijp.fcoord[start:end,1]\n",
    "z = Zeerijp.fcoord[start:end,2]\n",
    "# ccss = (Zeerijp.dat_slip_sort[dyn_step_name][start:end,2,-1])\n",
    "ccss = np.sqrt(Zeerijp.dat_slip_sort[dyn_step_name][start:end,0,-1]**2 \\\n",
    "        + Zeerijp.dat_slip_sort[dyn_step_name][start:end,1,-1]**2)\n",
    "scatter3d(x,y,z,ccss)"
   ]
  },
  {
   "cell_type": "code",
   "execution_count": null,
   "id": "c17caa6e-fffd-483d-af72-cf610c62876f",
   "metadata": {},
   "outputs": [],
   "source": []
  },
  {
   "cell_type": "code",
   "execution_count": 10,
   "id": "761d81a0-1d43-4fd7-b2ed-28ec7fa48086",
   "metadata": {},
   "outputs": [],
   "source": [
    "axiss = 1\n",
    "start = 0\n",
    "end = -53*2 # 3732 3781 3830 # 29 34\n",
    "# end = -1 # 3732 3781 3830"
   ]
  },
  {
   "cell_type": "code",
   "execution_count": 11,
   "id": "1c9308e3-7200-4c08-a6a6-6f762ef77002",
   "metadata": {},
   "outputs": [],
   "source": [
    "x = Zeerijp.fcoord[start:end,0]\n",
    "y = Zeerijp.fcoord[start:end,1]\n",
    "z = Zeerijp.fcoord[start:end,2]\n",
    "# ccss = Zeerijp.dat_slip_sort[dyn_step_name][start:end,axiss,0]\n",
    "ccss = np.sqrt(Zeerijp.dat_slip_sort[dyn_step_name][start:end,0,0]**2 \\\n",
    "        + Zeerijp.dat_slip_sort[dyn_step_name][start:end,1,0]**2)\n",
    "\n",
    "scatter3d(x,y,z,ccss)\n",
    "\n",
    "x = Zeerijp.fcoord[start:end,0]\n",
    "y = Zeerijp.fcoord[start:end,1]\n",
    "z = Zeerijp.fcoord[start:end,2]\n",
    "# ccss = Zeerijp.dat_slip_sort[dyn_step_name][start:end,axiss,20]\n",
    "ccss = np.sqrt(Zeerijp.dat_slip_sort[dyn_step_name][start:end,0,20]**2 \\\n",
    "        + Zeerijp.dat_slip_sort[dyn_step_name][start:end,1,20]**2)\n",
    "\n",
    "scatter3d(x,y,z,ccss)\n",
    "\n",
    "x = Zeerijp.fcoord[start:end,0]\n",
    "y = Zeerijp.fcoord[start:end,1]\n",
    "z = Zeerijp.fcoord[start:end,2]\n",
    "# ccss = Zeerijp.dat_slip_sort[dyn_step_name][start:end,axiss,60]\n",
    "ccss = np.sqrt(Zeerijp.dat_slip_sort[dyn_step_name][start:end,0,60]**2 \\\n",
    "        + Zeerijp.dat_slip_sort[dyn_step_name][start:end,1,60]**2)\n",
    "\n",
    "scatter3d(x,y,z,ccss)\n",
    "\n",
    "x = Zeerijp.fcoord[start:end,0]\n",
    "y = Zeerijp.fcoord[start:end,1]\n",
    "z = Zeerijp.fcoord[start:end,2]\n",
    "# ccss = Zeerijp.dat_slip_sort[dyn_step_name][start:end,axiss,-1]\n",
    "ccss = np.sqrt(Zeerijp.dat_slip_sort[dyn_step_name][start:end,0,-1]**2 \\\n",
    "        + Zeerijp.dat_slip_sort[dyn_step_name][start:end,1,-1]**2)\n",
    "\n",
    "scatter3d(x,y,z,ccss)"
   ]
  },
  {
   "cell_type": "code",
   "execution_count": null,
   "id": "4e04dd74-efd1-4409-9de6-ec2ad5f330f3",
   "metadata": {},
   "outputs": [],
   "source": []
  },
  {
   "cell_type": "code",
   "execution_count": null,
   "id": "b1599613-3db1-46cf-9cff-67cbc0e9db9d",
   "metadata": {},
   "outputs": [],
   "source": []
  },
  {
   "cell_type": "code",
   "execution_count": null,
   "id": "36230073-67a4-49f6-9f4a-5d9827b27dd6",
   "metadata": {},
   "outputs": [],
   "source": []
  },
  {
   "cell_type": "code",
   "execution_count": 12,
   "id": "28c59b2d-1f1b-4360-9835-ab886eee5e1c",
   "metadata": {},
   "outputs": [],
   "source": [
    "axiss = 1\n",
    "start = 0\n",
    "end = -53*2 # 3732 3781 3830\n",
    "# end = -1 # 3732 3781 3830"
   ]
  },
  {
   "cell_type": "code",
   "execution_count": 13,
   "id": "6590e207-fa66-431e-a7d1-0c8ae40f256b",
   "metadata": {},
   "outputs": [],
   "source": [
    "x = Zeerijp.fcoord[start:end,0]\n",
    "y = Zeerijp.fcoord[start:end,1]\n",
    "z = Zeerijp.fcoord[start:end,2]\n",
    "ccss = (Zeerijp.dat_trac_sta[start:end,0]/1e6).flatten()\n",
    "\n",
    "scatter3d(x,y,z,ccss)\n",
    "\n",
    "x = Zeerijp.fcoord[start:end,0]\n",
    "y = Zeerijp.fcoord[start:end,1]\n",
    "z = Zeerijp.fcoord[start:end,2]\n",
    "ccss = (Zeerijp.dat_trac_sta[start:end,1]/1e6).flatten()\n",
    "scatter3d(x,y,z,ccss)\n",
    "\n",
    "x = Zeerijp.fcoord[start:end,0]\n",
    "y = Zeerijp.fcoord[start:end,1]\n",
    "z = Zeerijp.fcoord[start:end,2]\n",
    "ccss = (Zeerijp.dat_trac_sta[start:end,2]/1e6).flatten()\n",
    "\n",
    "scatter3d(x,y,z,ccss)\n",
    "\n",
    "x = Zeerijp.fcoord[start:end,0]\n",
    "y = Zeerijp.fcoord[start:end,1]\n",
    "z = Zeerijp.fcoord[start:end,2]\n",
    "ccss = (Zeerijp.dat_trac_sta[start:end,3]/1e6).flatten()\n",
    "\n",
    "scatter3d(x,y,z,ccss)"
   ]
  },
  {
   "cell_type": "code",
   "execution_count": null,
   "id": "592883bd-fc2f-4708-b524-2de1211cf241",
   "metadata": {},
   "outputs": [],
   "source": []
  },
  {
   "cell_type": "code",
   "execution_count": null,
   "id": "05e32f61-85c4-414c-a347-084bd8ecce8e",
   "metadata": {},
   "outputs": [],
   "source": []
  },
  {
   "cell_type": "code",
   "execution_count": 8,
   "id": "e28ec4ec-d9f9-4a69-9ab2-f82659d0e78f",
   "metadata": {},
   "outputs": [],
   "source": [
    "axiss = 2\n",
    "start = 0\n",
    "end = -29*2 # 3732 3781 3830\n",
    "x = Zeerijp.fcoord[start:end,0]\n",
    "y = Zeerijp.fcoord[start:end,1]\n",
    "z = Zeerijp.fcoord[start:end,2]\n",
    "ccss = np.abs(Zeerijp.dat_trac_sta[start:end,2]/1e6).flatten() + (Zeerijp.dat_trac_sta[start:end,3]/1e6).flatten()\n",
    "\n",
    "scatter3d(x,y,z,ccss)"
   ]
  },
  {
   "cell_type": "code",
   "execution_count": 25,
   "id": "2cf4336c-4d0a-4246-8053-55cca7617e87",
   "metadata": {},
   "outputs": [],
   "source": [
    "axiss = 2\n",
    "start = 0\n",
    "end = -29 # 3732 3781 3830\n",
    "x = Zeerijp.fcoord[start:end,0]\n",
    "y = Zeerijp.fcoord[start:end,1]\n",
    "z = Zeerijp.fcoord[start:end,2]\n",
    "ccss = (Zeerijp.dat_trac_sta[start:end,axiss]/1e6).flatten()\n",
    "\n",
    "scatter3d(x,y,z,ccss)"
   ]
  },
  {
   "cell_type": "code",
   "execution_count": 12,
   "id": "17ab112e-231a-42c6-9210-e129d733411a",
   "metadata": {},
   "outputs": [
    {
     "name": "stderr",
     "output_type": "stream",
     "text": [
      "findfont: Font family ['normal'] not found. Falling back to DejaVu Sans.\n",
      "findfont: Font family ['normal'] not found. Falling back to DejaVu Sans.\n"
     ]
    }
   ],
   "source": [
    "Zeerijp.plot_static(tstep_list=[1],axis=1,\n",
    "                    scatter=1,vdegree=27, azimuth=-50)"
   ]
  },
  {
   "cell_type": "code",
   "execution_count": 20,
   "id": "aded4513-6030-4531-aca3-9ef85b508e2e",
   "metadata": {},
   "outputs": [],
   "source": [
    "axiss = 2\n",
    "start = 0\n",
    "end = 3830 # 3732 3781\n",
    "x = Zeerijp.fcoord[start:end,0]\n",
    "y = Zeerijp.fcoord[start:end,1]\n",
    "z = Zeerijp.fcoord[start:end,2]\n",
    "ccss = (Zeerijp.dat_trac_sta[start:end,axiss]/1e6).flatten()\n",
    "\n",
    "scatter3d(x,y,z,ccss)"
   ]
  },
  {
   "cell_type": "code",
   "execution_count": 19,
   "id": "34abcd6e-3a48-4019-8e80-30e019701c92",
   "metadata": {},
   "outputs": [],
   "source": [
    "axiss = 3\n",
    "start = 0\n",
    "end = 3830 # 3732 3781\n",
    "x = Zeerijp.fcoord[start:end,0]\n",
    "y = Zeerijp.fcoord[start:end,1]\n",
    "z = Zeerijp.fcoord[start:end,2]\n",
    "ccss = (Zeerijp.dat_trac_sta[start:end,axiss]/1e6).flatten()\n",
    "\n",
    "scatter3d(x,y,z,ccss)"
   ]
  },
  {
   "cell_type": "code",
   "execution_count": 9,
   "id": "f5993ed5-91e1-4575-83fe-431f992d753f",
   "metadata": {},
   "outputs": [],
   "source": [
    "axiss = 2\n",
    "start = 0\n",
    "end = 3830 # 3732 3781\n",
    "x = Zeerijp.fcoord[start:end,0]\n",
    "y = Zeerijp.fcoord[start:end,1]\n",
    "z = Zeerijp.fcoord[start:end,2]\n",
    "ccss = (Zeerijp.dat_trac_sta[start:end,axiss]/1e6).flatten()\n",
    "\n",
    "scatter3d(x,y,z,ccss)"
   ]
  },
  {
   "cell_type": "code",
   "execution_count": 14,
   "id": "0acd2813-540e-4fa3-ad91-04e2213f39d8",
   "metadata": {},
   "outputs": [],
   "source": [
    "axiss = 2\n",
    "start = 0\n",
    "end = 3830 # 3732 3781\n",
    "x = Zeerijp.fcoord[start:end,0]\n",
    "y = Zeerijp.fcoord[start:end,1]\n",
    "z = Zeerijp.fcoord[start:end,2]\n",
    "ccss = (Zeerijp.dat_trac_sta[start:end,axiss]/1e6).flatten()\n",
    "\n",
    "scatter3d(x,y,z,ccss)"
   ]
  },
  {
   "cell_type": "code",
   "execution_count": 9,
   "id": "874df369-a70a-4224-96d2-70874fa70079",
   "metadata": {},
   "outputs": [],
   "source": [
    "axiss = 0\n",
    "start = 0\n",
    "end = -35*2 # 3732 3781\n",
    "x = Zeerijp.fcoord[start:end,0]\n",
    "y = Zeerijp.fcoord[start:end,1]\n",
    "z = Zeerijp.fcoord[start:end,2]\n",
    "ccss = (Zeerijp.dat_trac_sta[start:end,axiss]/1e6).flatten()\n",
    "\n",
    "scatter3d(x,y,z,ccss)"
   ]
  },
  {
   "cell_type": "code",
   "execution_count": 19,
   "id": "46c82458-d620-4d0c-8031-1c9b461aa451",
   "metadata": {},
   "outputs": [],
   "source": [
    "axiss = 1\n",
    "start = -53*2 # 29 34\n",
    "end = -53 # 3732 3781\n",
    "x = Zeerijp.fcoord[start:end,0]\n",
    "y = Zeerijp.fcoord[start:end,1]\n",
    "z = Zeerijp.fcoord[start:end,2]\n",
    "ccss = (Zeerijp.dat_trac_sta[start:end,axiss]/1e6).flatten()\n",
    "\n",
    "scatter3d(x,y,z,ccss)"
   ]
  },
  {
   "cell_type": "code",
   "execution_count": 20,
   "id": "ae87e9e8-9333-4da4-991e-89dec01c0e4d",
   "metadata": {},
   "outputs": [],
   "source": [
    "start = -53\n",
    "end = -1 # 3732 3781\n",
    "x = Zeerijp.fcoord[start:end,0]\n",
    "y = Zeerijp.fcoord[start:end,1]\n",
    "z = Zeerijp.fcoord[start:end,2]\n",
    "ccss = (Zeerijp.dat_trac_sta[start:end,axiss]/1e6).flatten()\n",
    "\n",
    "scatter3d(x,y,z,ccss)"
   ]
  },
  {
   "cell_type": "code",
   "execution_count": null,
   "id": "a97420d5-b08d-484c-b102-33f3e53f32eb",
   "metadata": {},
   "outputs": [],
   "source": []
  }
 ],
 "metadata": {
  "kernelspec": {
   "display_name": "base",
   "language": "python",
   "name": "base"
  },
  "language_info": {
   "codemirror_mode": {
    "name": "ipython",
    "version": 3
   },
   "file_extension": ".py",
   "mimetype": "text/x-python",
   "name": "python",
   "nbconvert_exporter": "python",
   "pygments_lexer": "ipython3",
   "version": "3.7.4"
  },
  "toc-autonumbering": true,
  "toc-showcode": false,
  "toc-showmarkdowntxt": false,
  "toc-showtags": false
 },
 "nbformat": 4,
 "nbformat_minor": 5
}
