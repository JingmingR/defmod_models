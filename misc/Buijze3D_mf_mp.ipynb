{
 "cells": [
  {
   "cell_type": "code",
   "execution_count": 1,
   "metadata": {},
   "outputs": [],
   "source": [
    "# 10-08-2020: new 3D model extended from P2Dwe\n",
    "\n",
    "# gernal idea for adapting to 3D:\n",
    "# make split node pairs (way to examine all split nodes?)\n",
    "\n",
    "# 13-10-2020: need to modify defmod the code with hydrostaic pressure gradient reading \n",
    "# 14-10-2020: make the new P sync boundary condtion\n",
    "\n",
    "# 11-08-2021: make change for one fault multiple faults (search \"input\" to locate the parameters you want to change)\n",
    "\n",
    "# 23-08-2021: to do: stable initial loading; boundary reflection"
   ]
  },
  {
   "cell_type": "code",
   "execution_count": 2,
   "metadata": {},
   "outputs": [],
   "source": [
    "import numpy as np\n",
    "import h5py\n",
    "import os, sys\n",
    "import meshio\n",
    "# sys.path.append('/home/jingmingruan/ownCloud/dataprocessing')\n",
    "sys.path.append('/home/jingmingruan/ownCloud/dataprocessing')\n",
    "# sys.path.append('/vardim/home/ruanjm/DeepNL/dataprocessing')\n",
    "# sys.path.append('/home/jingmingruan/TUD/DeepNL/cloud/dataprocessing')\n",
    "from inpfunc_MP import *"
   ]
  },
  {
   "cell_type": "code",
   "execution_count": 3,
   "metadata": {
    "scrolled": true,
    "tags": []
   },
   "outputs": [],
   "source": [
    "# convert msh to h5\n",
    "# %run /home/jingmingruan/ownCloud/dataprocessing/Gmsh_h5_3D.py -m Zeerijp -e2 \"triangle\" -e3 \"tetra\" -mo 0 -km 0\n",
    "# %run /home/jingmingruan/TUD/DeepNL/cloud/dataprocessing/Gmsh_h5_3D.py -m Zeerijp -e2 \"triangle\" -e3 \"tetra\" -mo 1 -km 0"
   ]
  },
  {
   "cell_type": "code",
   "execution_count": 4,
   "metadata": {},
   "outputs": [],
   "source": [
    "h5_m1 = h5py.File('Buijze3D_45.h5', 'r')\n",
    "name_out = \"Buijze3D.inp\"\n",
    "save_checkpoint = 0\n",
    "load_checkpoint = 1\n",
    "load_init_BC = 1\n",
    "dbl_trac = 0\n",
    "init_sigmay = 0\n",
    "load_vtk = 0\n",
    "lock_wall = 0\n",
    "rotate_angle = 0\n",
    "\n",
    "make_patch = 0\n",
    "\n",
    "nmp = 4"
   ]
  },
  {
   "cell_type": "code",
   "execution_count": 5,
   "metadata": {},
   "outputs": [],
   "source": [
    "phy_flt = []\n",
    "phy_fb = []\n",
    "phy_bound = [12,14,10,13,15,11] # -x -y- z +x +y +z"
   ]
  },
  {
   "cell_type": "code",
   "execution_count": 6,
   "metadata": {
    "scrolled": true
   },
   "outputs": [],
   "source": [
    "# Model header\n",
    "dsp_hyb = 1\n",
    "poro = 1\n",
    "dim = 3\n",
    "ndy = 24\n",
    "grad_BC = 1\n",
    "\n",
    "t = 3600*24*ndy; dt = 3600*24*1; nviz = 1 \n",
    "if init_sigmay or load_vtk: t = 3600*24*1\n",
    "# 1e-6 0.3m lc\n",
    "dt_dyn=2e-5; t_dyn = 0.1; t_lim = 1; dsp=1; Xflt=1; rsf=0; v_bg=1E-12\n",
    "bod_frc=1; hyb=1; nviz_dyn=int(1e-2/dt_dyn); nviz_wave=int(1e-2/dt_dyn); nviz_slip=int(1e-2/dt_dyn)\n",
    "alpha= 0.; beta = 0.00125; rfrac = 0\n",
    "\n",
    "init=0; init_BC=0; reform_BC=0\n",
    "if load_init_BC: init_BC=1\n",
    "\n",
    "if poro:\n",
    "    line1 = [\"fault-p tet 36\"]\n",
    "else:\n",
    "    line1 = [\"fault tet 36\"]\n",
    "line3 = np.array([t, dt, nviz, dsp]).reshape(1,4)\n",
    "line4 = np.array([t_dyn, dt_dyn, nviz_dyn, t_lim, dsp_hyb, Xflt, bod_frc,hyb,rsf,init,init_BC,reform_BC]).reshape(1,12)\n",
    "if rsf==0:\n",
    "    line5 = np.array([nviz_wave,nviz_slip]).reshape(1,2)\n",
    "else:\n",
    "    line5 = np.array([nviz_wave,nviz_slip,v_bg]).reshape(1,3)\n",
    "line6 = np.array([alpha, beta]).reshape(1,2)"
   ]
  },
  {
   "cell_type": "code",
   "execution_count": 7,
   "metadata": {},
   "outputs": [
    {
     "name": "stdout",
     "output_type": "stream",
     "text": [
      "Extracting FE mesh...\n",
      "204786 nodes, 1130819 elements\n"
     ]
    }
   ],
   "source": [
    "# inputs\n",
    "print ('Extracting FE mesh...')\n",
    "coord = (h5_m1['Domain/Vertices'][:,:3]) # input(km)\n",
    "nnd_ori = len(coord)\n",
    "rho=np.array([2400.,2400.,2400.])\n",
    "E=np.array([1.5e10,1.5e10,1.5e10])\n",
    "nu=np.array([0.15,0.15,0.15])\n",
    "# E=rho*vs**2*(3*vp**2-4*vs**2)/(vp**2-vs**2)\n",
    "# nu=(vp**2-2*vs**2)/2/(vp**2-vs**2)\n",
    "\n",
    "E_dyn= E # Rick 2018 assumed dynamic E_dyn = 2 * E\n",
    "nu_dyn=nu\n",
    "K=np.array([9E-11,9E-11,9E-11,9E-11])/1.5E-4\n",
    "vs = np.sqrt(E_dyn/2./rho/(1.+nu_dyn))\n",
    "vp = np.sqrt(E_dyn*(1.-nu_dyn)/rho/(1.+nu_dyn)/(1.-2*nu_dyn))\n",
    "\n",
    "#solid viscosity; power law\n",
    "visc = 1E25 # solid viscosity [Pa·s] (visc optional)\n",
    "r = 1. # viscoelastic power law parameter, (visc optional)\n",
    "B=1. #Biot coef\n",
    "phi=.20 #porosity\n",
    "phir=.20 #(NAM,2016)\n",
    "cf= 2.2e9 #fluid bulk modulus(water)\n",
    "cfr=2.2e9 # 1.4e5 (Phung K.T. Nguyen1and Myung Jin Nam1,2,*) 180Mpa\n",
    "\n",
    "mat = [[E[0], nu[0], visc, r, rho[0], K[0], B, phi, cf, 0,E_dyn[0],nu_dyn[0]],\n",
    "       [E[1], nu[1], visc, r, rho[1], K[1], B, phir,cfr,0,E_dyn[1],nu_dyn[1]],\n",
    "       [E[2], nu[2], visc, r, rho[2], K[2], B, phi, cf, 0,E_dyn[2],nu_dyn[2]]]\n",
    "mat_typ = np.empty(shape = (0,1), dtype=np.uint32)\n",
    "\n",
    "tet_node = (h5_m1['Domain/Cells'][:,1:])\n",
    "print ('%d nodes, %d elements' %(nnd_ori, len(tet_node)))\n",
    "\n",
    "HF=1.0\n",
    "hhf = [[HF, HF, HF, HF, HF, HF, HF, HF, HF],\n",
    "       [HF, HF, HF, HF, HF, HF, HF, HF, HF],\n",
    "       [HF, HF, HF, HF, HF, HF, HF, HF, HF]]\n",
    "\n",
    "#convert gmsh numbering to exodusII numbering\n",
    "work = tet_node\n",
    "work2 = work.T[[0,3,1,2]]\n",
    "tet_node = work2.T"
   ]
  },
  {
   "cell_type": "code",
   "execution_count": 8,
   "metadata": {},
   "outputs": [
    {
     "data": {
      "text/plain": [
       "array([2568.92562796, 2568.92562796, 2568.92562796])"
      ]
     },
     "execution_count": 8,
     "metadata": {},
     "output_type": "execute_result"
    }
   ],
   "source": [
    "vp"
   ]
  },
  {
   "cell_type": "code",
   "execution_count": 9,
   "metadata": {},
   "outputs": [
    {
     "data": {
      "text/plain": [
       "array([1648.45118349, 1648.45118349, 1648.45118349])"
      ]
     },
     "execution_count": 9,
     "metadata": {},
     "output_type": "execute_result"
    }
   ],
   "source": [
    "vs"
   ]
  },
  {
   "cell_type": "code",
   "execution_count": 10,
   "metadata": {},
   "outputs": [
    {
     "name": "stdout",
     "output_type": "stream",
     "text": [
      "0.0 4.0 -4.0\n",
      "0.0 4.0 -4.0\n",
      "-5.0 -1.2 -3.8\n"
     ]
    }
   ],
   "source": [
    "print (coord[:,0].min(),coord[:,0].max(),coord[:,0].min()-coord[:,0].max())\n",
    "print (coord[:,1].min(),coord[:,1].max(),coord[:,1].min()-coord[:,1].max())\n",
    "print (coord[:,2].min(),coord[:,2].max(),coord[:,2].min()-coord[:,2].max())"
   ]
  },
  {
   "cell_type": "code",
   "execution_count": 11,
   "metadata": {
    "scrolled": true
   },
   "outputs": [],
   "source": [
    "# h5_m2.visit(printname)\n",
    "# Print info based on header input\n",
    "if Xflt>1:\n",
    "    print (\"Expecting multiple faults and intersection(s)\")"
   ]
  },
  {
   "cell_type": "code",
   "execution_count": 12,
   "metadata": {},
   "outputs": [],
   "source": [
    "# Observation locations\n",
    "ogrid=np.array([[ 1.0, 1.0, -0.1],\n",
    "                [ 1.0, 2.0, -0.1],\n",
    "                [ 1.0, 3.0, -0.1],\n",
    "                [ 2.0, 1.0, -0.1],\n",
    "                [ 2.0, 2.0, -0.1],\n",
    "                [ 2.0, 3.0, -0.1],\n",
    "                [ 3.0, 1.0, -0.1],\n",
    "                [ 3.0, 2.0, -0.1],\n",
    "                [ 3.0, 3.0, -0.1],\n",
    "                [ 1.5, 1.5, -0.1],\n",
    "                [ 1.5, 2.5, -0.1],\n",
    "                [ 2.5, 1.5, -0.1],\n",
    "                [ 2.5, 2.5, -0.1],\n",
    "               ])"
   ]
  },
  {
   "cell_type": "code",
   "execution_count": 13,
   "metadata": {},
   "outputs": [
    {
     "name": "stdout",
     "output_type": "stream",
     "text": [
      "1\n",
      "2\n",
      "3\n",
      "4\n",
      "5\n",
      "6\n",
      "7\n",
      "8\n",
      "9\n"
     ]
    }
   ],
   "source": [
    "mat_typ = np.zeros((len(tet_node)),dtype=np.uint32).reshape(-1)\n",
    "cell_mat = []\n",
    "# ! input materal dict\n",
    "options = {}\n",
    "\n",
    "\n",
    "for i in range(1,4):\n",
    "    options[i] = 1\n",
    "for i in range(4,7):\n",
    "    options[i] = 2\n",
    "for i in range(7,10):\n",
    "    options[i] = 3\n",
    "    \n",
    "for i in range(1,10): # debug: check the group number for the cell ! input\n",
    "    print (i)\n",
    "    cell_mat.append(h5_m1['Regions/group%d/Cell Ids' %(i)][:])\n",
    "\n",
    "for i in range(len(cell_mat)): # bug: manually check the layers with multiple physical groups\n",
    "    for j in range(len(cell_mat[i])):\n",
    "        mat_typ[cell_mat[i][j]-1] = options[i+1]\n",
    "\n"
   ]
  },
  {
   "cell_type": "code",
   "execution_count": 14,
   "metadata": {},
   "outputs": [],
   "source": [
    "# Duplicate the fault nodes (off-boundary) (CHANGE!) \n",
    "# ! input\n",
    "flt_tri = np.empty(shape=[0, 3], dtype=np.uint32) # should be flt_lin but made same as 3D\n",
    "flt_tri_bdr = np.empty(shape=[0, 2], dtype=np.uint32)\n",
    "flt_tri_index = np.empty(shape=(0), dtype=np.uint32) # should be flt_lin but made same as 3D\n",
    "flt_tri_seg = []\n",
    "for i in range(16,26): # input first main fault then aux fault (or just one fault)\n",
    "    felem = (h5_m1['Regions/group%d/Vertex Ids' %(i)][:,1:])\n",
    "    flt_tri_seg.append(felem)\n",
    "    flt_tri = np.vstack((flt_tri, felem))\n",
    "    flt_tri_index = np.hstack((flt_tri_index,i*np.ones(len(felem),dtype=np.uint32)))\n",
    "# flt_node = np.unique(flt_tri)\n",
    "\n",
    "for i in [26]: # input fault boundary node & intersection\n",
    "    if i == 10: # one-node intersection\n",
    "        felem = (h5_m1['Regions/group%d/Vertex Ids' %(i)][1:])\n",
    "    else:\n",
    "        felem = (h5_m1['Regions/group%d/Vertex Ids' %(i)][:,1:])\n",
    "    flt_tri_bdr = np.vstack((flt_tri_bdr, felem))\n",
    "flt_xbdr_node = np.unique(flt_tri_bdr)\n",
    "\n",
    "ft_pos_nodes_seg = []\n",
    "ft_pos_nodes = np.empty(shape=[0, 3], dtype=np.uint32)\n",
    "for i in range(16,26): #input first main fault then aux fault \n",
    "    felem = (h5_m1['Regions/group%d/Vertex Ids' %(i)][:,1:])\n",
    "    flt_node = np.unique(felem)\n",
    "    flt_node = flt_node[np.in1d(flt_node,flt_xbdr_node,invert=True)]\n",
    "    ft_pos_nodes_seg.append(np.unique(flt_node))\n",
    "    \n",
    "    ft_pos_nodes = np.vstack((ft_pos_nodes, felem))\n",
    "\n",
    "# only main fault slip\n",
    "flt_tri_main = np.empty(shape=[0, 3], dtype=np.uint32)\n",
    "for i in range(16,26):\n",
    "    felem = (h5_m1['Regions/group%d/Vertex Ids' %(i)][:,1:])\n",
    "    flt_tri_main = np.vstack((flt_tri_main, felem))\n",
    "# aux fault\n",
    "if Xflt>1:\n",
    "    flt_tri_aux = np.empty(shape=[0, 3], dtype=np.uint32)\n",
    "    for i in [13]: # input aux\n",
    "        felem = (h5_m1['Regions/group%d/Vertex Ids' %(i)][:,1:])\n",
    "        flt_tri_aux = np.vstack((flt_tri_aux, felem))\n",
    "    \n",
    "flt_node = np.unique(ft_pos_nodes)\n",
    "ft_pos_nodes = flt_node[np.in1d(flt_node,flt_xbdr_node,invert=True)]"
   ]
  },
  {
   "cell_type": "code",
   "execution_count": 15,
   "metadata": {},
   "outputs": [],
   "source": [
    "# get rid of competley boundary flt_tri\n",
    "mask = np.in1d(flt_tri, flt_xbdr_node)\n",
    "mask_rsh = mask.reshape((-1,3))\n",
    "work_sum = np.sum(mask_rsh,axis=1)\n",
    "flt_tri = flt_tri[np.where(work_sum<3)]"
   ]
  },
  {
   "cell_type": "code",
   "execution_count": 16,
   "metadata": {},
   "outputs": [],
   "source": [
    "# saving for tri plot\n",
    "mask = np.in1d(flt_tri, flt_xbdr_node)\n",
    "mask_rsh = mask.reshape((-1,3))\n",
    "work_sum = np.sum(mask_rsh,axis=1)\n",
    "flt_tri_save = flt_tri[np.where(work_sum==0)]\n",
    "np.save(\"flt_tri_nob\",flt_tri_save)"
   ]
  },
  {
   "cell_type": "markdown",
   "metadata": {
    "tags": []
   },
   "source": [
    "elf.flt_el### Searching for nodes and elements to perform BC or fault constraint (Computationally heavy) \n",
    "### Skip to load checkpoint if needed!!!"
   ]
  },
  {
   "cell_type": "code",
   "execution_count": 17,
   "metadata": {
    "jupyter": {
     "source_hidden": true
    },
    "tags": []
   },
   "outputs": [],
   "source": [
    "# testing auto detecting negative side\n",
    "# Debug: auto Replace the negative side \n",
    "# ! input postive direction\n",
    "if save_checkpoint:\n",
    "    model = inpclass(tet_node,coord,flt_tri,ft_pos_nodes,\"tet\") \n",
    "    model.Crack3D_MP(mp=nmp)\n",
    "    # find out the element contain the fault elements\n",
    "    model.SearchFltele3D_MP(mp=nmp)\n",
    "\n",
    "    # auto replace intersecting nodes\n",
    "\n",
    "    if Xflt>1:    \n",
    "        ft_xinit_nodes = np.unique(h5_m1['Regions/group15/Vertex Ids'][1:])\n",
    "        ft_xinit_nodes_bdr = np.unique(h5_m1['Regions/group16/Vertex Ids'][1:])\n",
    "        ft_xinit_nodes = ft_xinit_nodes[np.in1d(ft_xinit_nodes,ft_xinit_nodes_bdr,invert=True)]\n",
    "\n",
    "        flt_tri_all = np.empty(shape=[0, 3], dtype=np.uint32) # should be flt_lin but made same as 3D\n",
    "        flt_tri_index_all = np.empty(shape=(0), dtype=np.uint32) # should be flt_lin but made same as 3D\n",
    "        flt_tri_seg_all = []\n",
    "\n",
    "        for i in [11,12,13,14]: # input first main fault then aux fault (include all branches!!)\n",
    "            felem = (h5_m1['Regions/group%d/Vertex Ids' %(i)][:,1:])\n",
    "            flt_tri_seg_all.append(felem)\n",
    "            flt_tri_all = np.vstack((flt_tri_all, felem))\n",
    "            flt_tri_index_all = np.hstack((flt_tri_index_all,i*np.ones(len(felem),dtype=np.uint32)))\n",
    "\n",
    "        tet_node,coord,ft_x_nodes = Xflt3D(tet_node,coord,flt_tri_all,flt_tri_seg_all,ft_xinit_nodes)\n",
    "    else:\n",
    "        ft_x_nodes = np.empty(shape=(0), dtype=np.uint32)\n",
    "\n",
    "    nnd = len(coord)\n",
    "    nxfnd = len(ft_x_nodes) * 2\n",
    "    nfnd = len(ft_pos_nodes) + nxfnd\n",
    "    \n",
    "\n",
    "    if rotate_angle>0:\n",
    "        model.rotate_model(rotate_angle)\n",
    "        \n",
    "    model.Vecfsn3D_MP(ft_x_nodes,mp=nmp)\n",
    "\n",
    "    # forming fault constaint coeffecient (Q: should this be on the positive side?)\n",
    "    # 3D fault constraint coefficient\n",
    "\n",
    "    bnd_el = []\n",
    "    # ! input (boundary elements) in the order of abs & tract  \n",
    "    for i in phy_bound:  # in the order of -x -y- z +x +y +z\n",
    "        bnd_el.append(h5_m1['Regions/group%d/Vertex Ids' %(i)][:,1:])\n",
    "    model.BCeleside3D_MP(bnd_el,mp=nmp)\n",
    "    "
   ]
  },
  {
   "cell_type": "markdown",
   "metadata": {
    "tags": []
   },
   "source": [
    "### Computationally heavy part Finished! "
   ]
  },
  {
   "cell_type": "code",
   "execution_count": 18,
   "metadata": {},
   "outputs": [
    {
     "name": "stdout",
     "output_type": "stream",
     "text": [
      "Loading check point data...\n"
     ]
    }
   ],
   "source": [
    "# saving check point for parameter fixing\n",
    "# tet_node, coord, ft_neg_nodes, flt_tet, ft_x_nodes\n",
    "# vec_fs, vec_fd, vec_fn\n",
    "# cell_map_bc\n",
    "if save_checkpoint:\n",
    "    print (\"Saving checkpoint data...\")\n",
    "    fout_h5 = 'Zeerijp3D_checkpoint.h5'\n",
    "    try:\n",
    "        os.remove(fout_h5)\n",
    "    except OSError:\n",
    "        pass\n",
    "\n",
    "    f = h5py.File(fout_h5, \"w\")\n",
    "    grp = f.create_group('All')\n",
    "    grp.create_dataset('tet_node', data=model.fe_node, dtype=np.int32)\n",
    "    grp.create_dataset('coord', data=model.coord, dtype=np.float64)\n",
    "    grp.create_dataset('ft_neg_nodes', data=model.ft_neg_nodes, dtype=np.int32)\n",
    "    grp.create_dataset('ft_x_nodes', data=model.ft_x_nodes, dtype=np.int32)\n",
    "    grp.create_dataset('vec_fs', data=model.vec_fs, dtype=np.float64)\n",
    "    grp.create_dataset('vec_fd', data=model.vec_fd, dtype=np.float64)\n",
    "    grp.create_dataset('vec_fn', data=model.vec_fn, dtype=np.float64)\n",
    "    grp.create_dataset('flt_el', data=model.flt_el, dtype=np.int32)\n",
    "    grp.create_dataset('loc_tet', data=np.asarray(model.loc_tet), dtype=np.int32)\n",
    "    for i in range(len(model.cell_map_bc)):\n",
    "        grp.create_dataset(\"BC_group%d\" % ((i)), data=model.cell_map_bc[i], dtype=np.int32)\n",
    "    f.close()\n",
    "    print (fout_h5 + '...checkpoint created.')\n",
    "    \n",
    "    \n",
    "if load_checkpoint:\n",
    "    print (\"Loading check point data...\")\n",
    "    f_checkpoint = h5py.File('Zeerijp3D_checkpoint.h5', 'r')\n",
    "    tet_node = f_checkpoint['All/tet_node'][:]\n",
    "    coord = f_checkpoint['All/coord'][:]\n",
    "    ft_neg_nodes = f_checkpoint['All/ft_neg_nodes'][:]\n",
    "    ft_x_nodes = f_checkpoint['All/ft_x_nodes'][:]\n",
    "    vec_fs = f_checkpoint['All/vec_fs'][:]\n",
    "    vec_fd = f_checkpoint['All/vec_fd'][:]\n",
    "    vec_fn = f_checkpoint['All/vec_fn'][:]\n",
    "    vec_flt_el = f_checkpoint['All/flt_el'][:]\n",
    "    loc_tet = f_checkpoint['All/loc_tet'][:]\n",
    "    bnd_el = []\n",
    "    # ! input (boundary elements) in the order of abs & tract  \n",
    "    for i in phy_bound: \n",
    "        bnd_el.append(h5_m1['Regions/group%d/Vertex Ids' %(i)][:,1:])\n",
    "    cell_map_bc = []\n",
    "    for i in range(6):\n",
    "        cell_map_bc.append(f_checkpoint['All/BC_group%d' % ((i))][:])\n",
    "        \n",
    "    nnd = len(coord)\n",
    "    nxfnd = len(ft_x_nodes) * 2\n",
    "    nfnd = len(ft_pos_nodes) + nxfnd\n",
    "    "
   ]
  },
  {
   "cell_type": "markdown",
   "metadata": {},
   "source": [
    "# Friction paremters"
   ]
  },
  {
   "cell_type": "code",
   "execution_count": 19,
   "metadata": {},
   "outputs": [
    {
     "name": "stderr",
     "output_type": "stream",
     "text": [
      "/home/jingmingruan/miniconda3/lib/python3.7/site-packages/ipykernel_launcher.py:32: DeprecationWarning: `np.float` is a deprecated alias for the builtin `float`. To silence this warning, use `float` by itself. Doing this will not modify any behavior and is safe. If you specifically wanted the numpy scalar type, use `np.float64` here.\n",
      "Deprecated in NumPy 1.20; for more details and guidance: https://numpy.org/devdocs/release/1.20.0-notes.html#deprecations\n",
      "/home/jingmingruan/miniconda3/lib/python3.7/site-packages/ipykernel_launcher.py:33: DeprecationWarning: `np.float` is a deprecated alias for the builtin `float`. To silence this warning, use `float` by itself. Doing this will not modify any behavior and is safe. If you specifically wanted the numpy scalar type, use `np.float64` here.\n",
      "Deprecated in NumPy 1.20; for more details and guidance: https://numpy.org/devdocs/release/1.20.0-notes.html#deprecations\n",
      "/home/jingmingruan/miniconda3/lib/python3.7/site-packages/ipykernel_launcher.py:34: DeprecationWarning: `np.float` is a deprecated alias for the builtin `float`. To silence this warning, use `float` by itself. Doing this will not modify any behavior and is safe. If you specifically wanted the numpy scalar type, use `np.float64` here.\n",
      "Deprecated in NumPy 1.20; for more details and guidance: https://numpy.org/devdocs/release/1.20.0-notes.html#deprecations\n"
     ]
    }
   ],
   "source": [
    "# input for fault parameters !!\n",
    "if poro: perm = np.zeros((nfnd,1)) # set it to zero if impose offset pressure profile\n",
    "\n",
    "# RSF \n",
    "if rsf==1:   \n",
    "#     a_list = [0.00251,0.00251,0.00612,0.02195]  # a\n",
    "#     b_list = [0.00201,0.00201,0.00368,0.01953]  # b\n",
    "#     b0_list =[0.658,0.658,0.619,0.494] # reference friction coefficient\n",
    "#     V0_list =[0.1, 0.1, 0.1, 0.1] # reference slip velocity\n",
    "#     L_list = [0.00278,0.00278,0.02329,0.00379]  # characteristic slip distance    \n",
    "    \n",
    "    a_list = [0.015,0.015,0.015,0.015]  # a\n",
    "    b_list = [0.019,0.019,0.019,0.019]  # b\n",
    "    b0_list =[0.6,0.6,0.6,0.6] # reference friction coefficient\n",
    "    V0_list =[1e-6,1e-6,1e-6,1e-6] # reference slip velocity\n",
    "    L_list = [2e-4,2e-4,2e-4,2e-4]  # characteristic slip distance    \n",
    "    \n",
    "    a = .015*np.ones((nfnd,1)); b0=.6*np.ones((nfnd,1));V0=1E-6*np.ones((nfnd,1))\n",
    "    b=.019*np.ones((nfnd,1)); L=.02*np.ones((nfnd,1))\n",
    "    dtau0 = np.zeros((nfnd,1))\n",
    "    coh = np.zeros((nfnd,1))\n",
    "    dcoh = np.ones((nfnd,1))\n",
    "    theta_init = np.empty((nfnd,1),dtype=np.float)\n",
    "    st_init = np.zeros((nfnd,3))\n",
    "    st_init_ini = np.zeros((nfnd,3))\n",
    "    frc=np.ones((nfnd,1),dtype=np.uint32)\n",
    "\n",
    "# slip weakening    \n",
    "else:\n",
    "    st_init = np.zeros((nfnd,3))\n",
    "    frc=np.ones((nfnd,1),dtype=np.uint32)\n",
    "    fc=0.6*np.ones((nfnd,1),dtype=np.float)\n",
    "    fcd=0.45*np.ones((nfnd,1),dtype=np.float)\n",
    "    dc=0.005*np.ones((nfnd,1),dtype=np.float)\n",
    "    coh=np.zeros((nfnd,1))\n",
    "    dcoh=np.ones((nfnd,1))\n",
    "    biot=1. * np.ones((nfnd,1))"
   ]
  },
  {
   "cell_type": "code",
   "execution_count": 20,
   "metadata": {},
   "outputs": [],
   "source": [
    "# change the array order\n",
    "if save_checkpoint:\n",
    "    abs_bc1  = model.cell_map_bc[0] # -x\n",
    "    abs_bc2  = model.cell_map_bc[1] # -y\n",
    "    abs_bc3  = model.cell_map_bc[2] # bot\n",
    "    trac_el1 = model.cell_map_bc[3] # +x\n",
    "    trac_el2 = model.cell_map_bc[4] # +y\n",
    "    trac_el3 = model.cell_map_bc[5] # top\n",
    "else:\n",
    "    abs_bc1  = cell_map_bc[0] # -x\n",
    "    abs_bc2  = cell_map_bc[1] # -y\n",
    "    abs_bc3  = cell_map_bc[2] # bot\n",
    "    trac_el1 = cell_map_bc[3] # +x\n",
    "    trac_el2 = cell_map_bc[4] # +y\n",
    "    trac_el3 = cell_map_bc[5] # top"
   ]
  },
  {
   "cell_type": "markdown",
   "metadata": {},
   "source": [
    "# Loading initial stress"
   ]
  },
  {
   "cell_type": "code",
   "execution_count": 21,
   "metadata": {},
   "outputs": [],
   "source": [
    "from plot_3D import *\n",
    "if load_init_BC:\n",
    "    ini_stress = plot3D(\"./Buijze3D_fe.h5\",dyn=0,seis=0)"
   ]
  },
  {
   "cell_type": "code",
   "execution_count": 22,
   "metadata": {},
   "outputs": [
    {
     "name": "stdout",
     "output_type": "stream",
     "text": [
      "0\n"
     ]
    }
   ],
   "source": [
    "# setting initial stress based on idcase\n",
    "# Make the fault permeable at certain segment; add initial stress \n",
    "# permeable at certain depth as well the friction law\n",
    "x_min = min(coord[:,1]); x_max = max(coord[:,1])\n",
    "y_min = min(coord[:,1]); y_max = max(coord[:,1])\n",
    "z_min = min(coord[:,2]); z_max = max(coord[:,2])\n",
    "\n",
    "if init_BC:\n",
    "    rho_g = 200\n",
    "    rho_f = 1150\n",
    "    P_init = 35e6\n",
    "    nu = 0.15\n",
    "    g = 9.80665\n",
    "    top_tra = -2350 * 2020 * g/1e6\n",
    "#     rho = np.array(mat)[:,4]\n",
    "#     dep = np.array([-2.35, -2.81,-2.86,-3.14]) # edit!\n",
    "#     grav_mat = np.array(np.diff(dep)*rho[:-1])\n",
    "#     grav_mat = np.hstack((0,grav_mat))\n",
    "\n",
    "    Kx = [0.748, 0.748, 0.748] # 0.748 \n",
    "    Ky = [0.795, 0.795, 0.795] # 0.795\n",
    "\n",
    "    j = 0\n",
    "    cap_node = 0\n",
    "    # overwrite the initial stress with given stress\n",
    "    for node_pos, i in zip(ft_pos_nodes, range(len(ft_pos_nodes))):\n",
    "        x = coord[node_pos-1,:][0]\n",
    "        y = coord[node_pos-1,:][1]\n",
    "        z = coord[node_pos-1,:][2]\n",
    "        if load_init_BC:\n",
    "            sts = ini_stress.dat_trac_sta[:,0,0][i]\n",
    "            std = ini_stress.dat_trac_sta[:,1,0][i]\n",
    "            stn = ini_stress.dat_trac_sta[:,2,0][i] # effective normal stress\n",
    "            pressure = ini_stress.dat_trac_sta[:,3,0][i]\n",
    "            tot_shear = np.sqrt(sts**2+std**2)\n",
    "#       cap maximum shear stress with reference friction\n",
    "        if rsf==1 and np.abs(tot_shear/stn)>max(b0_list):\n",
    "            cap_node += 1\n",
    "            ratio = max(b0_list)*np.abs(stn)/tot_shear\n",
    "            sts  = sts*ratio\n",
    "            std  = std*ratio\n",
    "        if rsf==0 and np.abs(tot_shear/stn)>(fc[i]):\n",
    "            cap_node += 1\n",
    "            ratio = fc[i]*np.abs(stn)/tot_shear * 0.95\n",
    "            sts  = sts*ratio\n",
    "            std  = std*ratio\n",
    "        if make_patch==1:\n",
    "            if abs(y-2) > 0.2:\n",
    "                ratio = 0.01*fc[i]*np.abs(stn)/tot_shear\n",
    "                sts  = sts*ratio\n",
    "                std  = std*ratio\n",
    "            else:\n",
    "                sts  = std*0.6\n",
    "                std  = std\n",
    "            \n",
    "\n",
    "        st_init[i,:]=[sts,std,(stn-pressure)]\n",
    "        if rsf: st_init_ini[i,:]=[sts,std,stn]\n",
    "    print (cap_node)        "
   ]
  },
  {
   "cell_type": "markdown",
   "metadata": {},
   "source": [
    "# define RSF parameters on fault nodes"
   ]
  },
  {
   "cell_type": "code",
   "execution_count": 23,
   "metadata": {
    "tags": []
   },
   "outputs": [],
   "source": [
    "# set up RSF firction\n",
    "if rsf and init_BC:\n",
    "    pos_id = np.arange(len(ft_pos_nodes))\n",
    "    res_check = np.zeros(len(ft_pos_nodes))\n",
    "    for j in tqdm(range(loc_tet.shape[0])):\n",
    "        flt_el_work_id = loc_tet[j][0]\n",
    "        flt_el_work = tet_node[flt_el_work_id]\n",
    "        loc_pos_flt = pos_id[(np.in1d(ft_pos_nodes[:],flt_el_work))]\n",
    "        mat_id = mat_typ[flt_el_work_id]\n",
    "\n",
    "        a_work=a_list[mat_id-1]\n",
    "        b_work=b_list[mat_id-1]\n",
    "        b0_work=b0_list[mat_id-1]\n",
    "        V0_work=V0_list[mat_id-1]\n",
    "        V_work=v_bg\n",
    "        L_work=L_list[mat_id-1]\n",
    "        \n",
    "        tau0 = np.sqrt(st_init_ini[loc_pos_flt,0]**2 + st_init_ini[loc_pos_flt,1]**2)\n",
    "        sn0 = np.abs(st_init_ini[loc_pos_flt,2])\n",
    "        theta_init_work = np.abs(L_work/V0_work*np.exp((a_work*np.log(2.*np.sinh(tau0/a_work/sn0)) \\\n",
    "                                                          -b0_work-a_work*np.log(v_bg/V0_work))/b_work))\n",
    "        for i in range(len(loc_pos_flt)):\n",
    "            loc_work = loc_pos_flt[i]\n",
    "            if res_check[loc_work]==0:\n",
    "                a[loc_work] = a_work\n",
    "                b[loc_work] = b_work\n",
    "                b0[loc_work] = b0_work\n",
    "                V0[loc_work] = V0_work\n",
    "                L[loc_work] = L_work\n",
    "                theta_init[loc_work,0] = theta_init_work[i]\n",
    "            \n",
    "        if mat_id == 3:\n",
    "            res_check[loc_pos_flt] = 1\n",
    "\n",
    "        frc[loc_pos_flt]=1\n"
   ]
  },
  {
   "cell_type": "markdown",
   "metadata": {},
   "source": [
    "# critical element size $h^*$"
   ]
  },
  {
   "cell_type": "code",
   "execution_count": 24,
   "metadata": {},
   "outputs": [
    {
     "name": "stdout",
     "output_type": "stream",
     "text": [
      "Critical element length h=0.050 m\n"
     ]
    }
   ],
   "source": [
    "lbd=rho*(vp**2-2*vs**2); mu=rho*vs**2\n",
    "if rsf==1:\n",
    "    L_h=np.mean(L_list); a_h=np.mean(a_list); b_h=np.mean(b_list)\n",
    "    sigma_e=max(map(abs,st_init_ini[:,2]))\n",
    "    hstar=min(2*mu*L_h/(b_h-a_h)/np.pi/sigma_e)\n",
    "    print (\"Critical RSF distance h*=%0.3f m\" %hstar)\n",
    "Lc=min(dt_dyn*np.sqrt(E_dyn/rho))\n",
    "print ((\"Critical element length h=%0.3f m\" %Lc))"
   ]
  },
  {
   "cell_type": "code",
   "execution_count": 25,
   "metadata": {},
   "outputs": [
    {
     "data": {
      "text/plain": [
       "<matplotlib.collections.PathCollection at 0x7f4199a94d10>"
      ]
     },
     "execution_count": 25,
     "metadata": {},
     "output_type": "execute_result"
    },
    {
     "data": {
      "image/png": "[encoded data removed]",
      "text/plain": [
       "<Figure size 648x360 with 2 Axes>"
      ]
     },
     "metadata": {
      "needs_background": "light"
     },
     "output_type": "display_data"
    }
   ],
   "source": [
    "# plotting initial stress\n",
    "import matplotlib.pyplot as plt\n",
    "import matplotlib.gridspec as gridspec\n",
    "tcoord = coord[ft_pos_nodes-1,:]\n",
    "zcnt = tcoord[:,2]\n",
    "\n",
    "fig = plt.figure(figsize=(9,5),constrained_layout=True)\n",
    "spec2 = gridspec.GridSpec(ncols=2, nrows=1, left=0.05, right=0.98, wspace=0.05, figure=fig)\n",
    "f2_ax1 = fig.add_subplot(spec2[0])\n",
    "f2_ax1.scatter(zcnt,st_init[:,1])\n",
    "\n",
    "f2_ax2 = fig.add_subplot(spec2[1])\n",
    "f2_ax2.scatter(zcnt,st_init[:,2])\n"
   ]
  },
  {
   "cell_type": "code",
   "execution_count": 26,
   "metadata": {},
   "outputs": [],
   "source": [
    "if poro:\n",
    "    bc_typ = np.ones((nnd,4), dtype=np.int8)\n",
    "else:\n",
    "    bc_typ = np.ones((nnd,3), dtype=np.int8)\n",
    "\n",
    "# input\n",
    "# fixed nodes & sync pressure on the boudary and reservoir\n",
    "bcx_nodes = bnd_el[0]\n",
    "bcy_nodes = bnd_el[1]\n",
    "bcz_nodes = bnd_el[2]\n",
    "\n",
    "for node in bcx_nodes.reshape(-1):\n",
    "    bc_typ[node - 1, 0] = 0\n",
    "for node in bcy_nodes.reshape(-1):\n",
    "    bc_typ[node - 1, 1] = 0\n",
    "for node in bcz_nodes.reshape(-1):\n",
    "    bc_typ[node - 1, 2] = 0\n",
    "\n",
    "if dbl_trac or load_vtk:\n",
    "    for node in bcx_nodes.reshape(-1):\n",
    "        bc_typ[node - 1, 0] = 1\n",
    "    for node in bcy_nodes.reshape(-1):\n",
    "        bc_typ[node - 1, 1] = 1\n",
    "\n",
    "if lock_wall:\n",
    "    for node in bcx_nodes.reshape(-1):\n",
    "        bc_typ[node - 1, 0] = 0\n",
    "    for node in bcy_nodes.reshape(-1):\n",
    "        bc_typ[node - 1, 1] = 0\n",
    "        \n",
    "if init_BC or init_sigmay:\n",
    "    bcx_nodes = bnd_el[3]\n",
    "    bcy_nodes = bnd_el[4]\n",
    "    # bcz_nodes = bnd_el[5]\n",
    "\n",
    "    for node in bcx_nodes.reshape(-1):\n",
    "        bc_typ[node - 1, 0] = 0\n",
    "    for node in bcy_nodes.reshape(-1):\n",
    "        bc_typ[node - 1, 1] = 0\n",
    "    # for node in bcz_nodes.reshape(-1):\n",
    "    #     bc_typ[node - 1, 2] = 0\n",
    "        \n",
    "# Pressure sync (debug)\n",
    "if poro:\n",
    "    bc_typ[:, 3] = 2\n"
   ]
  },
  {
   "cell_type": "code",
   "execution_count": 27,
   "metadata": {},
   "outputs": [],
   "source": [
    "# apply extrac boundary condition when using traction-pair boundary condition (only on the top)\n",
    "if (dbl_trac or load_vtk) and not (lock_wall):\n",
    "    i = 0\n",
    "    for side in [1,4]:  # - + y\n",
    "        bcy_nodes = bnd_el[side]\n",
    "        bcoord = coord[bcy_nodes.reshape(-1)-1,:]\n",
    "        bnode = [[(coord[:,0].min()+coord[:,0].max())/2, coord[:,1].min(), coord[:,2].max()]\n",
    "                 ,[(coord[:,0].min()+coord[:,0].max())/2, coord[:,1].max(), coord[:,2].max()]]\n",
    "        dis = np.linalg.norm(bcoord - np.dot(np.ones((len(bcoord), 1)),\\\n",
    "                np.array(bnode[i]).reshape(1,3)), axis=1)\n",
    "        row = np.argsort(dis)[0]\n",
    "        bnode_nr = bcy_nodes.reshape(-1)[row]\n",
    "        print (bnode_nr)\n",
    "        print (coord[bnode_nr-1])\n",
    "        bc_typ[bnode_nr-1,0] = 0 \n",
    "        i += 1\n",
    "    i = 0    \n",
    "    for side in [0,3]:  # - + x\n",
    "        bcy_nodes = bnd_el[side]\n",
    "        bcoord = coord[bcy_nodes.reshape(-1)-1,:]\n",
    "        bnode = [[coord[:,0].min(), (coord[:,1].min()+coord[:,1].max())/2, coord[:,2].max()]\n",
    "                 ,[coord[:,0].max(), (coord[:,1].min()+coord[:,1].max())/2, coord[:,2].max()]]\n",
    "        dis = np.linalg.norm(bcoord - np.dot(np.ones((len(bcoord), 1)),\\\n",
    "                np.array(bnode[i]).reshape(1,3)), axis=1)\n",
    "        row = np.argsort(dis)[0]\n",
    "        bnode_nr = bcy_nodes.reshape(-1)[row]\n",
    "        print (bnode_nr)\n",
    "        print (coord[bnode_nr-1])\n",
    "        bc_typ[bnode_nr-1,1] = 0\n",
    "        i += 1\n",
    "\n",
    "    bcc_typ = np.copy(bc_typ)"
   ]
  },
  {
   "cell_type": "code",
   "execution_count": 28,
   "metadata": {},
   "outputs": [],
   "source": [
    "# (test) changing boundary conditions during run\n",
    "bcc_typ = np.copy(bc_typ)\n",
    "if reform_BC:\n",
    "    bcx_nodes = bnd_el[3]\n",
    "    bcy_nodes = bnd_el[4]\n",
    "    # bcz_nodes = bnd_el[5]\n",
    "\n",
    "    for node in bcx_nodes.reshape(-1):\n",
    "        bcc_typ[node - 1, 0] = 0\n",
    "    for node in bcy_nodes.reshape(-1):\n",
    "        bcc_typ[node - 1, 1] = 0\n",
    "    # for node in bcz_nodes.reshape(-1):\n",
    "    #     bcc_typ[node - 1, 2] = 0"
   ]
  },
  {
   "cell_type": "code",
   "execution_count": 29,
   "metadata": {},
   "outputs": [],
   "source": [
    "if poro:\n",
    "    trac_bc1 = np.zeros(shape=[len(trac_el1), 6])\n",
    "    trac_bc2 = np.zeros(shape=[len(trac_el2), 6])\n",
    "    trac_bc3 = np.zeros(shape=[len(trac_el3), 6])\n",
    "    if dbl_trac:\n",
    "        trac_bc4 = np.zeros(shape=[len(abs_bc1), 6]) # -x \n",
    "        trac_bc5 = np.zeros(shape=[len(abs_bc2), 6]) # -y\n",
    "else:\n",
    "    trac_bc1 = np.zeros(shape=[len(trac_el1), 5])\n",
    "    trac_bc2 = np.zeros(shape=[len(trac_el2), 5])\n",
    "    trac_bc3 = np.zeros(shape=[len(trac_el3), 5])\n",
    "\n",
    "#--------------gradient traction BC------------ \n",
    "if grad_BC:\n",
    "    \n",
    "    dep = -0.0; g = 9.80665; p0 = -23.6e6 #top depth, gravity constant, top pressuure\n",
    "    rho = np.array(mat)[:,4]\n",
    "    \n",
    "#     p0 = (-1.2)*rho[0]*g*1000\n",
    "\n",
    "    # density \n",
    "    rhox = np.array([rho[0],rho[1],rho[2]])\n",
    "    rhoy = np.array([rho[0],rho[1],rho[2]])\n",
    "    # layer boundaries\n",
    "    formbdx = np.sort(np.array([-1.2,-2.85,-3.05,-5]))\n",
    "    formbdy = np.sort(np.array([-1.2,-2.85,-3.05,-5]))\n",
    "    # Horizontal vertical stress ratio\n",
    "    Kx = [0.748, 0.748, 0.748, 0.748] # 0.748 \n",
    "    Ky = [0.795, 0.795, 0.795, 0.795] # 0.795\n",
    "\n",
    "    # uniform vertical traction on the top\n",
    "    # trac_bc3[:,2] = -p0+dep*1E3*rho[0]*g \n",
    "    trac_bc3[:,2] = p0\n",
    "    # gradient traction on the sides\n",
    "    for el,i in zip(trac_el1,range(len(trac_bc1))):\n",
    "        el_node = tet_node[el[0]-1,:] \n",
    "        tcoord = coord[el_node-1,:]\n",
    "        zcnt = np.mean(tcoord,0)[2]\n",
    "        sigma_x = Kx[0]*(p0-dep*1E3*rhox[0]*g) # east to west\n",
    "        for j in range(len(formbdx)-1): # integrate in depth \n",
    "            sigma_x += -1*g*1E3*Kx[j]*rhox[j]*((zcnt<=formbdx[j])*(formbdx[j+1]-formbdx[j])+(zcnt>formbdx[j] and zcnt<=formbdx[j+1])*(formbdx[j+1]-zcnt))\n",
    "        trac_bc1[i,0] = sigma_x\n",
    "        #trac_bc1[i,0] = -2.8E7 #Kx[-1]*(-p0+zcnt*1E3*rho[-1]*g)\n",
    "    for el,i in zip(trac_el2,range(len(trac_bc2))):\n",
    "        el_node = tet_node[el[0]-1,:] \n",
    "        tcoord = coord[el_node-1,:]\n",
    "        zcnt = np.mean(tcoord,0)[2]\n",
    "        sigma_y = Ky[0]*(p0-dep*1E3*rhoy[0]*g) # south to north\n",
    "        for j in range(len(formbdy)-1): # integrate in depth \n",
    "            sigma_y += -1*g*1E3*Ky[j]*rhoy[j]*((zcnt<=formbdy[j])*(formbdy[j+1]-formbdy[j])+(zcnt>formbdy[j] and zcnt<=formbdy[j+1])*(formbdy[j+1]-zcnt))\n",
    "        trac_bc2[i,1] = sigma_y\n",
    "        #trac_bc2[i,1] = 2.4E7 #Ky[-1]*(p0-zcnt*1E3*rho[-1]*g)\n",
    "        \n",
    "    if dbl_trac and init_BC==0:\n",
    "        formbdx = np.sort(np.array([-1.2,-2.80,-3.00,-5]))\n",
    "        formbdy = np.sort(np.array([-1.2,-2.80,-3.00,-5]))\n",
    "        for el,i in zip(abs_bc1,range(len(trac_bc4))):\n",
    "            el_node = tet_node[el[0]-1,:] \n",
    "            tcoord = coord[el_node-1,:]\n",
    "            zcnt = np.mean(tcoord,0)[2]\n",
    "            sigma_x = Kx[0]*(p0-dep*1E3*rhox[0]*g) # south to north\n",
    "            for j in range(len(formbdx)-1): # integrate in depth \n",
    "                sigma_x += -1*g*1E3*Kx[j]*rhox[j]*((zcnt<=formbdx[j])*(formbdx[j+1]-formbdx[j])+(zcnt>formbdx[j] and zcnt<=formbdx[j+1])*(formbdx[j+1]-zcnt))\n",
    "            trac_bc4[i,0] = -1*sigma_x\n",
    "        for el,i in zip(abs_bc2,range(len(trac_bc5))):\n",
    "            el_node = tet_node[el[0]-1,:] \n",
    "            tcoord = coord[el_node-1,:]\n",
    "            zcnt = np.mean(tcoord,0)[2]\n",
    "            sigma_y = Ky[0]*(p0-dep*1E3*rhoy[0]*g) # south to north\n",
    "            for j in range(len(formbdy)-1): # integrate in depth \n",
    "                sigma_y += -1*g*1E3*Ky[j]*rhoy[j]*((zcnt<=formbdy[j])*(formbdy[j+1]-formbdy[j])+(zcnt>formbdy[j] and zcnt<=formbdy[j+1])*(formbdy[j+1]-zcnt))\n",
    "            trac_bc5[i,1] = -1*sigma_y\n",
    "\n",
    "        \n",
    "    if poro: # time for applying traction\n",
    "        trac_bc3[:,4] = 0.; trac_bc3[:,5] = 0. \n",
    "        trac_bc1[:,4] = 0.; trac_bc1[:,5] = 0. \n",
    "    else:\n",
    "        trac_bc3[:,3] = 0; trac_bc3[:,4] = 0.\n",
    "        \n",
    "#--------------uniform traction BC------------ \n",
    "else:\n",
    "    trac_val=[-0E6, -0E6, -0E6] # xyz\n",
    "    if poro:\n",
    "        trac_bc1[:,0]=trac_val[0]; trac_bc1[:,4]=0.; trac_bc1[:,5]=0.\n",
    "        trac_bc2[:,1]=trac_val[1]; trac_bc2[:,4]=0.; trac_bc2[:,5]=0.\n",
    "        trac_bc3[:,2]=trac_val[2]; trac_bc3[:,4]=0.; trac_bc3[:,5]=0.\n",
    "    else:\n",
    "        trac_bc1[:,0] = trac_val[0]; trac_bc1[:,3] = 0.; trac_bc1[:,4] = 0\n",
    "        trac_bc2[:,1] = trac_val[1]; trac_bc2[:,3] = 0.; trac_bc2[:,4] = 0\n",
    "        trac_bc3[:,2] = trac_val[2]; trac_bc3[:,3] = 0.; trac_bc3[:,4] = 0\n",
    "\n"
   ]
  },
  {
   "cell_type": "code",
   "execution_count": 30,
   "metadata": {},
   "outputs": [
    {
     "name": "stdout",
     "output_type": "stream",
     "text": [
      "0.0\n",
      "1.13686837721616e-16\n",
      "0.0\n"
     ]
    }
   ],
   "source": [
    "print (coord[bnd_el[0]-1][:,:,0].max()-coord[bnd_el[0]-1][:,:,0].min())\n",
    "print (coord[bnd_el[1]-1][:,:,1].max()-coord[bnd_el[0]-1][:,:,1].min())\n",
    "print (coord[bnd_el[2]-1][:,:,2].max()-coord[bnd_el[0]-1][:,:,2].min())"
   ]
  },
  {
   "cell_type": "code",
   "execution_count": 31,
   "metadata": {
    "tags": []
   },
   "outputs": [],
   "source": [
    "# loading vertical stress from vtk\n",
    "abs_bc1  = cell_map_bc[0] # -x\n",
    "abs_bc2  = cell_map_bc[1] # -y\n",
    "\n",
    "Ky = [0.748, 0.748, 0.748, 0.748] # 0.748\n",
    "Kx = [0.795, 0.795, 0.795, 0.795] # 0.795\n",
    "\n",
    "if load_vtk:\n",
    "    mesh = meshio.read('foo_00.vtk' )\n",
    "    vtk_coord = mesh.points\n",
    "    ss_z = mesh.point_data['ss'][:,2]\n",
    "    vtk_pressure = mesh.point_data['pressure']\n",
    "    \n",
    "#     round_num = 10\n",
    "#     bdr_index = (np.round(vtk_coord[:,0],round_num)==np.round(coord[:,0].max(),round_num)) # edit! Not the case after rotattion or non rectangler\n",
    "#     nbdn_vtk = np.sum(bdr_index)\n",
    "#     if nbdn_vtk!=len(np.unique(bnd_el[3])): raise ValueError(\"Boundary node mismatched, try change the threshold!\")\n",
    "#     vtk_coord_bdr = vtk_coord[bdr_index] \n",
    "#     ss_z_bdr = ss_z[bdr_index]\n",
    "#     vtk_pressure_bdr = vtk_pressure[bdr_index]\n",
    "    \n",
    "#     for el,i in tqdm(zip(bnd_el[3],range(len(bnd_el[3])))):# +x\n",
    "#         sigma_x = 0.\n",
    "#         el_node = el\n",
    "#         tcoord = np.round(coord[el_node-1,:],10)\n",
    "#         if len(tcoord)==0: raise ValueError(\"Boundary node not found!\")\n",
    "#         for j in tcoord:\n",
    "#             dis = np.linalg.norm(vtk_coord_bdr - np.dot(np.ones((len(vtk_coord_bdr), 1)), \\\n",
    "#                     np.array(j).reshape(1,3)), axis=1)\n",
    "#             row = np.argsort(dis)[0]\n",
    "#             if dis[row]> 1e-3: print (j,vtk_coord_bdr[row])\n",
    "#             sigma_x += ss_z_bdr[row]- vtk_pressure_bdr[row]\n",
    "#         trac_bc1[i,0] = Kx[0]*sigma_x/len(tcoord) # \n",
    "\n",
    "    vtk_coord_bdr = vtk_coord[vtk_coord[:,0]==coord[:,0].max()]\n",
    "    ss_z_bdr = ss_z[vtk_coord[:,0]==coord[:,0].max()]\n",
    "    vtk_pressure_bdr = vtk_pressure[vtk_coord[:,0]==coord[:,0].max()]\n",
    "    for el,i in zip(trac_el1,range(len(trac_bc1))):\n",
    "        sigma_x = 0.\n",
    "        el_node = tet_node[(el[0])-1,:] \n",
    "        tcoord = np.round(coord[el_node-1,:],10)\n",
    "        tcoord = tcoord[tcoord[:,0]==coord[:,0].max()]\n",
    "        if len(tcoord)==0: raise ValueError(\"Boundary node not found!\")\n",
    "        for j in tcoord:\n",
    "            dis = np.linalg.norm(vtk_coord_bdr - np.dot(np.ones((len(vtk_coord_bdr), 1)),                     np.array(j).reshape(1,3)), axis=1)\n",
    "            row = np.argsort(dis)[0]\n",
    "            if dis[row]> 1e-3: print (dis[row],j,vtk_coord_bdr[row])\n",
    "            sigma_x += ss_z_bdr[row]- vtk_pressure_bdr[row]\n",
    "        trac_bc1[i,0] = Kx[0]*sigma_x/len(tcoord) # postive direction\n",
    "        \n",
    "    vtk_coord_bdr = vtk_coord[vtk_coord[:,1]==coord[:,1].max()]\n",
    "    ss_z_bdr = ss_z[vtk_coord[:,1]==coord[:,1].max()]\n",
    "    vtk_pressure_bdr = vtk_pressure[vtk_coord[:,1]==coord[:,1].max()]\n",
    "    for el,i in zip(trac_el2,range(len(trac_bc2))):\n",
    "        sigma_y = 0.\n",
    "        el_node = tet_node[(el[0])-1,:] \n",
    "        tcoord = np.round(coord[el_node-1,:],10)\n",
    "        tcoord = tcoord[tcoord[:,1]==coord[:,1].max()]\n",
    "        if len(tcoord)==0: raise ValueError(\"Boundary node not found!\")\n",
    "        for j in tcoord:\n",
    "            dis = np.linalg.norm(vtk_coord_bdr - np.dot(np.ones((len(vtk_coord_bdr), 1)),                     np.array(j).reshape(1,3)), axis=1)\n",
    "            row = np.argsort(dis)[0]\n",
    "            if dis[row]> 1e-3: print (dis[row],j,vtk_coord_bdr[row])\n",
    "            sigma_y += ss_z_bdr[row]- vtk_pressure_bdr[row]\n",
    "        trac_bc2[i,1] = Ky[0]*sigma_y/len(tcoord) # postive direction\n",
    "    \n",
    "    trac_bc4 = np.zeros(shape=[len(abs_bc1), 6]) # -x \n",
    "    trac_bc5 = np.zeros(shape=[len(abs_bc2), 6]) # -y\n",
    "    \n",
    "    vtk_coord_bdr = vtk_coord[vtk_coord[:,0]==coord[:,0].min()]\n",
    "    ss_z_bdr = ss_z[vtk_coord[:,0]==coord[:,0].min()]\n",
    "    vtk_pressure_bdr = vtk_pressure[vtk_coord[:,0]==coord[:,0].min()]\n",
    "    for el,i in zip(abs_bc1,range(len(trac_bc4))):\n",
    "        sigma_x = 0.\n",
    "        el_node = tet_node[(el[0])-1,:] \n",
    "        tcoord = np.round(coord[el_node-1,:],10)\n",
    "        tcoord = tcoord[tcoord[:,0]==coord[:,0].min()]\n",
    "        if len(tcoord)==0: raise ValueError(\"Boundary node not found!\")\n",
    "        for j in tcoord:\n",
    "            dis = np.linalg.norm(vtk_coord_bdr - np.dot(np.ones((len(vtk_coord_bdr), 1)),                     np.array(j).reshape(1,3)), axis=1)\n",
    "            row = np.argsort(dis)[0]\n",
    "            if dis[row]> 1e-3: print (dis[row],j,vtk_coord_bdr[row])\n",
    "            sigma_x += ss_z_bdr[row]- vtk_pressure_bdr[row]\n",
    "        trac_bc4[i,0] = -1*Kx[0]*sigma_x/len(tcoord) # postive direction\n",
    "        \n",
    "    vtk_coord_bdr = vtk_coord[vtk_coord[:,1]==0] # coord[:,1].min() !!!\n",
    "    ss_z_bdr = ss_z[vtk_coord[:,1]==0]\n",
    "    vtk_pressure_bdr = vtk_pressure[vtk_coord[:,1]==0] # coord[:,1].min() !!!\n",
    "    for el,i in zip(abs_bc2,range(len(trac_bc5))):\n",
    "        sigma_y = 0.\n",
    "        el_node = tet_node[(el[0])-1,:] \n",
    "        tcoord = np.round(coord[el_node-1,:],10)\n",
    "        tcoord = tcoord[tcoord[:,1]==0] #coord[:,1].min() !!!\n",
    "        if len(tcoord)==0: raise ValueError(\"Boundary node not found!\")\n",
    "        for j in tcoord:\n",
    "            dis = np.linalg.norm(vtk_coord_bdr - np.dot(np.ones((len(vtk_coord_bdr), 1)),                     np.array(j).reshape(1,3)), axis=1)\n",
    "            row = np.argsort(dis)[0]\n",
    "            if dis[row]> 1e-3: print (dis[row],j,vtk_coord_bdr[row])\n",
    "            sigma_y += ss_z_bdr[row]- vtk_pressure_bdr[row]\n",
    "        trac_bc5[i,1] = -1*Ky[0]*sigma_y/len(tcoord) # postive direction\n",
    "\n"
   ]
  },
  {
   "cell_type": "code",
   "execution_count": 32,
   "metadata": {},
   "outputs": [],
   "source": [
    "if init_BC:\n",
    "    trac_bc1[:,:]=0.\n",
    "    trac_bc2[:,:]=0.\n",
    "    trac_bc3[:,:]=0.\n",
    "    \n",
    "if init_sigmay:\n",
    "    trac_bc1[:,:]=0.\n",
    "    trac_bc2[:,:]=0.\n",
    "\n",
    "trac_el = np.vstack((trac_el1, trac_el2, trac_el3))\n",
    "trac_bc = np.vstack((trac_bc1, trac_bc2, trac_bc3))\n",
    "\n",
    "if dbl_trac or load_vtk:\n",
    "    trac_el = np.vstack((trac_el, abs_bc1, abs_bc2))\n",
    "    trac_bc = np.vstack((trac_bc, trac_bc4, trac_bc5))"
   ]
  },
  {
   "cell_type": "code",
   "execution_count": 33,
   "metadata": {},
   "outputs": [
    {
     "data": {
      "image/png": "[encoded data removed]",
      "text/plain": [
       "<Figure size 648x360 with 2 Axes>"
      ]
     },
     "metadata": {
      "needs_background": "light"
     },
     "output_type": "display_data"
    }
   ],
   "source": [
    "# plotting traction\n",
    "import matplotlib.pyplot as plt\n",
    "import matplotlib.gridspec as gridspec\n",
    "el_node = tet_node[trac_el1[:,0]-1,:] \n",
    "tcoord = coord[el_node-1,:]\n",
    "zcnt = np.mean(tcoord,1)[:,2]\n",
    "\n",
    "fig = plt.figure(figsize=(9,5),constrained_layout=True)\n",
    "spec2 = gridspec.GridSpec(ncols=2, nrows=1, left=0.05, right=0.98, wspace=0.05, figure=fig)\n",
    "f2_ax1 = fig.add_subplot(spec2[0])\n",
    "f2_ax1.scatter(trac_bc1[:,0],zcnt,  alpha=0.6,cmap='jet')\n",
    "\n",
    "el_node2 = tet_node[trac_el3[:,0]-1,:] \n",
    "tcoord2 = coord[el_node2-1,:]\n",
    "zcnt2 = np.mean(tcoord2,1)[:,2]\n",
    "\n",
    "f2_ax2 = fig.add_subplot(spec2[1])\n",
    "f2_ax2.scatter(trac_bc3[:,2]/1e6,zcnt2,  alpha=0.6,cmap='jet')\n",
    "\n",
    "\n",
    "if dbl_trac or load_vtk:\n",
    "    fltt_node = tet_node[(abs_bc1[:,0].astype(int)-1),:] \n",
    "    tcoord = coord[fltt_node-1,:]\n",
    "    zcnt = np.mean(tcoord,1)[:,2]\n",
    "    f2_ax1.scatter(trac_bc4[:,0],zcnt,alpha=0.6,cmap='jet')\n",
    "    \n",
    "    fltt_node = tet_node[(abs_bc2[:,0].astype(int)-1),:] \n",
    "    tcoord = coord[fltt_node-1,:]\n",
    "    zcnt = np.mean(tcoord,1)[:,2]\n",
    "    f2_ax2.scatter(trac_bc5[:,1],zcnt,alpha=0.6,cmap='jet')\n",
    "\n",
    "\n",
    "# f2_ax2.scatter(st_init[:,0]/st_init[:,1],coord_fltele,  alpha=0.6,cmap='jet')\n",
    "# f2_ax2.set_xlim(e6, 5e6)\n",
    "# f2_ax2.set_ylim( -5.0, -2.6)\n"
   ]
  },
  {
   "cell_type": "code",
   "execution_count": 34,
   "metadata": {},
   "outputs": [
    {
     "data": {
      "image/png": "[encoded data removed]",
      "text/plain": [
       "<Figure size 648x360 with 2 Axes>"
      ]
     },
     "metadata": {
      "needs_background": "light"
     },
     "output_type": "display_data"
    }
   ],
   "source": [
    "# plotting traction\n",
    "import matplotlib.pyplot as plt\n",
    "import matplotlib.gridspec as gridspec\n",
    "el_node = tet_node[trac_el1[:,0]-1,:] \n",
    "tcoord = coord[el_node-1,:]\n",
    "zcnt = np.mean(tcoord,1)[:,2]\n",
    "\n",
    "fig = plt.figure(figsize=(9,5),constrained_layout=True)\n",
    "spec2 = gridspec.GridSpec(ncols=2, nrows=1, left=0.05, right=0.98, wspace=0.05, figure=fig)\n",
    "f2_ax1 = fig.add_subplot(spec2[0])\n",
    "f2_ax1.scatter(trac_bc1[:,0],zcnt,  alpha=0.6,cmap='jet')\n",
    "\n",
    "el_node2 = tet_node[trac_el2[:,0]-1,:] \n",
    "tcoord2 = coord[el_node2-1,:]\n",
    "zcnt2 = np.mean(tcoord2,1)[:,2]\n",
    "\n",
    "f2_ax2 = fig.add_subplot(spec2[1])\n",
    "f2_ax2.scatter(trac_bc2[:,1],zcnt2,  alpha=0.6,cmap='jet')\n",
    "\n",
    "\n",
    "if dbl_trac or load_vtk:\n",
    "    fltt_node = tet_node[(abs_bc1[:,0].astype(int)-1),:] \n",
    "    tcoord = coord[fltt_node-1,:]\n",
    "    zcnt = np.mean(tcoord,1)[:,2]\n",
    "    f2_ax1.scatter(trac_bc4[:,0],zcnt,alpha=0.6,cmap='jet')\n",
    "    \n",
    "    fltt_node = tet_node[(abs_bc2[:,0].astype(int)-1),:] \n",
    "    tcoord = coord[fltt_node-1,:]\n",
    "    zcnt = np.mean(tcoord,1)[:,2]\n",
    "    f2_ax2.scatter(trac_bc5[:,1],zcnt,alpha=0.6,cmap='jet')\n",
    "\n",
    "\n",
    "# f2_ax2.scatter(st_init[:,0]/st_init[:,1],coord_fltele,  alpha=0.6,cmap='jet')\n",
    "# f2_ax2.set_xlim(e6, 5e6)\n",
    "# f2_ax2.set_ylim( -5.0, -2.6)\n"
   ]
  },
  {
   "cell_type": "code",
   "execution_count": 35,
   "metadata": {},
   "outputs": [],
   "source": [
    "# absorbing bc (el,side)\n",
    "abs_bc1 = np.hstack((abs_bc1, np.ones((len(abs_bc1),1))))\n",
    "abs_bc2 = np.hstack((abs_bc2, 2*np.ones((len(abs_bc2),1))))\n",
    "abs_bc3 = np.hstack((abs_bc3, 3*np.ones((len(abs_bc3),1))))\n",
    "abs_bc4 = np.hstack((trac_el1, np.ones((len(trac_el1),1))))\n",
    "abs_bc5 = np.hstack((trac_el2, 2*np.ones((len(trac_el2),1))))\n",
    "abs_bc6 = np.hstack((trac_el3, 3*np.ones((len(trac_el3),1))))\n",
    "# abs_bc6 can be free surface \n",
    "abs_bc = np.vstack((abs_bc1, abs_bc2, abs_bc3, abs_bc4, abs_bc5, abs_bc6))"
   ]
  },
  {
   "cell_type": "code",
   "execution_count": 36,
   "metadata": {
    "scrolled": true
   },
   "outputs": [],
   "source": [
    "# # nodal force/source input\n",
    "\n",
    "fnode_bc = np.empty((0,7))"
   ]
  },
  {
   "cell_type": "code",
   "execution_count": 37,
   "metadata": {},
   "outputs": [
    {
     "name": "stdout",
     "output_type": "stream",
     "text": [
      "0 NCF and 255654 fault constraint equations.\n"
     ]
    }
   ],
   "source": [
    "# Total length of constraint function\n",
    "NCF_s2m = np.array([])\n",
    "neqNCF=(dim+1)*len(NCF_s2m)\n",
    "if poro:\n",
    "    neqFT=dim*nfnd + sum(perm)\n",
    "else:\n",
    "    neqFT=dim*nfnd\n",
    "neq = neqNCF+neqFT \n",
    "print ('%d NCF and %d fault constraint equations.' %(neqNCF,neqFT))"
   ]
  },
  {
   "cell_type": "code",
   "execution_count": 38,
   "metadata": {},
   "outputs": [
    {
     "name": "stdout",
     "output_type": "stream",
     "text": [
      "Write to Buijze3D.inp...\n"
     ]
    }
   ],
   "source": [
    "# Export to Defmod .inp file input\n",
    "fout = name_out\n",
    "print ('Write to ' + fout + '...')\n",
    "if os.path.isfile(fout): os.remove(fout)\n",
    "f = open(fout, 'a')\n",
    "neqNCF=0 # zero nonconformal nodes\n",
    "neqPIX=0 # zero fixed pressure\n",
    "nfnode=len(fnode_bc) # zero nodal force/flux\n",
    "nvsrc=0  # zero volume source\n",
    "line2=np.array([len(tet_node),int(nnd),len(mat),int(neq),int(nfnode),len(trac_el),int(nvsrc),len(abs_bc),int(nfnd),len(ogrid),int(neqNCF),int(neqPIX)]).reshape(1,12)\n",
    "\n",
    "np.savetxt(f, line1, fmt='%s')\n",
    "np.savetxt(f, line2, delimiter=' ', fmt='%d '*12)\n",
    "np.savetxt(f, line3, delimiter=' ', fmt='%g %g %d %d')\n",
    "np.savetxt(f, line4, delimiter=' ', fmt='%g %g %d %g %d %d %d %d %d %d %d %d')\n",
    "if rsf==0:\n",
    "    np.savetxt(f, line5, delimiter=' ', fmt='%d %d')\n",
    "else:\n",
    "    np.savetxt(f, line5, delimiter=' ', fmt='%d %d %g')\n",
    "np.savetxt(f, np.hstack((line6,[[nxfnd]])), delimiter=' ', fmt='%g %g %d')\n",
    "np.savetxt(f, np.column_stack((tet_node, mat_typ)), delimiter=' ', fmt='%d '*5)\n",
    "np.savetxt(f, np.column_stack((coord, bc_typ, bcc_typ)) , delimiter = ' ', fmt='%g '*3+ '%d '*(3+poro) + '%d '* ((3+poro)))\n",
    "\n",
    "np.savetxt(f, mat, delimiter=' ', fmt = '%g '*12)\n",
    "# HF transmissbility\n",
    "if poro: np.savetxt(f, hhf, delimiter=' ', fmt = '%g '*9)"
   ]
  },
  {
   "cell_type": "code",
   "execution_count": 39,
   "metadata": {},
   "outputs": [],
   "source": [
    "# fault slip: strike, dip and open, zero for hybrid model\n",
    "slip = np.array([0.0, 0.0, 0.0]).reshape(3,1) # zero means locked\n",
    "n=[2]\n",
    "j=0\n",
    "vecf = np.empty(shape=(0,11))\n",
    "xfnd = np.empty(shape=(0,3))\n",
    "for node_pos, node_neg in zip(ft_pos_nodes, ft_neg_nodes):\n",
    "    if node_pos != node_neg:\n",
    "        vec1  = [[1,  0,  0,  0, node_pos], # fourth dimension for poro \n",
    "                 [-1, 0,  0,  0, node_neg]]\n",
    "        vec2  = [[0,  1,  0,  0, node_pos],\n",
    "                 [0, -1,  0,  0, node_neg]]\n",
    "        vec3  = [[0,  0,  1,  0, node_pos],\n",
    "                 [0,  0, -1,  0, node_neg]]\n",
    "        mat_ft = np.hstack((vec_fs[j,:].reshape(3,1), vec_fd[j,:].reshape(3,1), vec_fn[j,:].reshape(3,1)))\n",
    "        mat_f = np.matrix.transpose(mat_ft).reshape(1,9)\n",
    "        val = np.dot(mat_ft,slip)\n",
    "        cval1 = np.hstack((val[0], [0.,0.])).reshape(1,3)\n",
    "        cval2 = np.hstack((val[1], [0.,0.])).reshape(1,3)\n",
    "        cval3 = np.hstack((val[2], [0.,0.])).reshape(1,3)\n",
    "        np.savetxt(f, n, fmt = '%d')\n",
    "        np.savetxt(f, vec1, delimiter = ' ', fmt = '%g %g %g %g %d')\n",
    "        np.savetxt(f, cval1, delimiter = ' ', fmt = \"%1.2E %g %g\")\n",
    "        np.savetxt(f, n, fmt = '%d')\n",
    "        np.savetxt(f, vec2, delimiter = ' ', fmt = '%g %g %g %g %d')\n",
    "        np.savetxt(f, cval2, delimiter = ' ', fmt = \"%1.2E %g %g\")\n",
    "        np.savetxt(f, n, fmt = '%d')\n",
    "        np.savetxt(f, vec3, delimiter = ' ', fmt = '%g %g %g %g %d')\n",
    "        np.savetxt(f, cval3, delimiter = ' ', fmt = \"%1.2E %g %g\")\n",
    "        vecf = np.vstack((vecf,np.hstack(([[node_pos, node_neg]], mat_f))))\n",
    "        xfnd = np.vstack((xfnd, coord[node_pos-1,:]))\n",
    "        if (poro) and perm[j] > 0:  # edit: d\n",
    "            vec4 = [[0, 0, 0, 1, node_pos], \n",
    "                    [0, 0, 0,-1, node_neg]]\n",
    "            cval4 =[[0, 0, 0]]\n",
    "            np.savetxt(f, n, fmt = '%d')\n",
    "            np.savetxt(f, vec4, delimiter = ' ', fmt = '%g %g %g %g %d')\n",
    "            np.savetxt(f, cval4, delimiter = ' ', fmt = \"%1.2E %g %g\")\n",
    "        j+=1\n",
    "# Cross-link nodes\n",
    "if Xflt>1:\n",
    "    ft_x_pos = np.hstack((ft_x_nodes[:,0],ft_x_nodes[:,1]))\n",
    "    ft_x_neg = np.hstack((ft_x_nodes[:,2],ft_x_nodes[:,3]))\n",
    "    print (j)\n",
    "    i=0\n",
    "    vecxf=np.empty(shape=(nxfnd,10))\n",
    "    stx_init=np.empty(shape=(nxfnd,3))\n",
    "    for node_pos,node_neg in zip(ft_x_pos,ft_x_neg):\n",
    "        vec1  = [[1, 0, 0, 0, node_pos],\n",
    "                 [-1, 0, 0,0, node_neg]]\n",
    "        vec2  = [[0, 1, 0, 0, node_pos],\n",
    "                 [0, -1, 0,0, node_neg]]\n",
    "        vec3  = [[0, 0, 1, 0, node_pos],\n",
    "                 [0, 0, -1,0, node_neg]]\n",
    "        cval = np.array([[0.,0.,0.]])\n",
    "        np.savetxt(f, n, fmt = '%d')\n",
    "        np.savetxt(f, vec1, delimiter = ' ', fmt = '%g %g %g %g %d')\n",
    "        np.savetxt(f, cval, delimiter = ' ', fmt = \"%g %g %g\")\n",
    "        np.savetxt(f, n, fmt = '%d')\n",
    "        np.savetxt(f, vec2, delimiter = ' ', fmt = '%g %g %g %g %d')\n",
    "        np.savetxt(f, cval, delimiter = ' ', fmt = \"%g %g %g\")\n",
    "        np.savetxt(f, n, fmt = '%d')\n",
    "        np.savetxt(f, vec3, delimiter = ' ', fmt = '%g %g %g %g %d')\n",
    "        np.savetxt(f, cval, delimiter = ' ', fmt = \"%g %g %g\")\n",
    "        if (poro) and perm[j] > 0: \n",
    "            vec4 = [[0, 0, 0, 1, node_pos], \n",
    "                    [0, 0, 0,-1, node_neg]]\n",
    "            cval4 =[[0, 0, 0]]\n",
    "            np.savetxt(f, n, fmt = '%d')\n",
    "            np.savetxt(f, vec4, delimiter = ' ', fmt = '%g %g %g %g %d')\n",
    "            np.savetxt(f, cval4, delimiter = ' ', fmt = \"%1.2E %g %g\")\n",
    "\n",
    "        mat_f = np.hstack((vec_fs[j,:], vec_fd[j,:], vec_fn[j,:])).reshape(1,9)\n",
    "        vecf = np.vstack((vecf,np.hstack(([[node_pos, node_neg]], mat_f))))\n",
    "        xfnd = np.vstack((xfnd, coord[node_pos-1,:]))\n",
    "        j+=1 # Fortran 1 based nfnd index\n",
    "        # Auxiliary fault\n",
    "        if i<len(ft_x_nodes[:,0]):\n",
    "            vecxf[i,:] = np.hstack((j,vecx_fs[i],vecx_fn[i],vecx_fd[i])) \n",
    "        else: # Reversely linked node pairs [3<->1]\n",
    "            vecxf[i,:] = np.hstack((j,-vecx_fs[i],-vecx_fn[i],-vecx_fd[i]))\n",
    "    #     if idcase == 14:\n",
    "    #         stx_init[i,:]=[7E7,0.,-12E7]\n",
    "    #     else:\n",
    "    #         stx_init[i,:]=[-7.8E7,0.,-12E7]\n",
    "        i+=1"
   ]
  },
  {
   "cell_type": "code",
   "execution_count": 40,
   "metadata": {},
   "outputs": [],
   "source": [
    "# add a header for reading input (p sync for pos 0/neg side 1, 2 average)\n",
    "p_sync = 2*np.ones((nfnd,1),dtype=np.int8)\n",
    "i=0\n",
    "if poro: \n",
    "    for node_pos in ft_pos_nodes:\n",
    "        y = coord[node_pos - 1,dim-1]\n",
    "        if y > -3.000:\n",
    "            p_sync[i] = 1\n",
    "        elif y <= -3.000:\n",
    "            p_sync[i] = 0\n",
    "        i+=1"
   ]
  },
  {
   "cell_type": "code",
   "execution_count": 41,
   "metadata": {},
   "outputs": [
    {
     "data": {
      "text/plain": [
       "(-3.4, -2.6)"
      ]
     },
     "execution_count": 41,
     "metadata": {},
     "output_type": "execute_result"
    },
    {
     "data": {
      "image/png": "[encoded data removed]",
      "text/plain": [
       "<Figure size 288x360 with 1 Axes>"
      ]
     },
     "metadata": {
      "needs_background": "light"
     },
     "output_type": "display_data"
    }
   ],
   "source": [
    "import matplotlib.pyplot as plt\n",
    "import matplotlib.gridspec as gridspec\n",
    "coord_fltele = coord[ft_pos_nodes - 1,dim-1]\n",
    "\n",
    "fig = plt.figure(figsize=(4,5),constrained_layout=True)\n",
    "spec2 = gridspec.GridSpec(ncols=1, nrows=1, left=0.05, right=0.48, wspace=0.05, figure=fig)\n",
    "f2_ax2 = fig.add_subplot(spec2[0])\n",
    "f2_ax2.scatter(p_sync,coord_fltele,  alpha=0.6,cmap='jet')\n",
    "# f2_ax2.scatter(st_init[:,0]/st_init[:,1],coord_fltele,  alpha=0.6,cmap='jet')\n",
    "# f2_ax2.set_xlim(e6, 5e6)\n",
    "f2_ax2.set_ylim( -3.4, -2.6)"
   ]
  },
  {
   "cell_type": "code",
   "execution_count": 42,
   "metadata": {},
   "outputs": [
    {
     "name": "stdout",
     "output_type": "stream",
     "text": [
      "Defmod file Buijze3D.inp created\n"
     ]
    }
   ],
   "source": [
    "if rsf: # with biot & perm\n",
    "    np.savetxt(f, np.hstack((vecf, b0, V0, dtau0, a, b, L, theta_init, perm, st_init, xfnd, frc, coh, dcoh, p_sync)), delimiter = ' ',\\\n",
    "       fmt = '%d '*2+'%g '*23+'%d '+'%g '*2 + '%d')\n",
    "else:\n",
    "    np.savetxt(f,np.hstack((vecf,fc,fcd,dc,perm,st_init,xfnd,frc,coh,dcoh,biot,p_sync)),delimiter=' ',\\\n",
    "           fmt='%d '*2 + '%g '*9 + '%g '*3 + '%d ' + '%g '*3 + '%g '*3 + '%d '+ '%g '*3 + '%d')\n",
    "\n",
    "# Auxiliary fault\n",
    "if Xflt>1:\n",
    "    np.savetxt(f,np.hstack((vecxf,stx_init)),delimiter=' ', fmt='%d '+'%g '*12)\n",
    "    \n",
    "#  point force/source\n",
    "if nfnode>0:\n",
    "    np.savetxt(f, fnode_bc, delimiter=' ',\\\n",
    "            fmt ='%d %1.2E %1.2E %1.2E %1.2E %g %g')\n",
    "# Boundary traction\n",
    "np.savetxt(f, np.column_stack((trac_el, trac_bc)), delimiter=' ',\\\n",
    "        fmt ='%d %d %1.2E %1.2E %1.2E %1.2E %g %g')\n",
    "# Observation grid\n",
    "np.savetxt(f,ogrid,delimiter=' ',fmt='%g '*3)\n",
    "# Absorbing boundariesm\n",
    "np.savetxt(f,abs_bc,delimiter=' ',fmt='%d %d %d')\n",
    "f.close(); # necessary for successful save\n",
    "print ('Defmod file '+fout+' created')"
   ]
  },
  {
   "cell_type": "code",
   "execution_count": 43,
   "metadata": {},
   "outputs": [
    {
     "name": "stdout",
     "output_type": "stream",
     "text": [
      "[7.60878e+05 3.00000e+00 3.00000e+00]\n",
      "20216\n",
      "10159\n",
      "(10159, 8)\n",
      "[255654.]\n",
      "340872\n",
      "85218\n",
      "(85218, 23)\n"
     ]
    }
   ],
   "source": [
    "print (abs_bc[-1])\n",
    "print (len(abs_bc))\n",
    "print (len(trac_el))\n",
    "print (np.column_stack((trac_el,trac_bc)).shape)\n",
    "print (neq)\n",
    "print (j*4)\n",
    "print (nfnd)\n",
    "print (np.hstack((vecf,fc,fcd,dc,st_init,xfnd,frc,coh,dcoh)).shape)"
   ]
  },
  {
   "cell_type": "code",
   "execution_count": 44,
   "metadata": {},
   "outputs": [],
   "source": [
    "# import shutil\n",
    "# shutil.copy(name_out, '/home/jingmingruan/Desktop/3Dexample/Zeerijp/')"
   ]
  },
  {
   "cell_type": "code",
   "execution_count": null,
   "metadata": {},
   "outputs": [],
   "source": []
  },
  {
   "cell_type": "code",
   "execution_count": null,
   "metadata": {},
   "outputs": [],
   "source": []
  },
  {
   "cell_type": "code",
   "execution_count": null,
   "metadata": {},
   "outputs": [],
   "source": []
  }
 ],
 "metadata": {
  "kernelspec": {
   "display_name": "Python 3",
   "language": "python",
   "name": "python3"
  },
  "language_info": {
   "codemirror_mode": {
    "name": "ipython",
    "version": 3
   },
   "file_extension": ".py",
   "mimetype": "text/x-python",
   "name": "python",
   "nbconvert_exporter": "python",
   "pygments_lexer": "ipython3",
   "version": "3.7.4"
  }
 },
 "nbformat": 4,
 "nbformat_minor": 4
}
